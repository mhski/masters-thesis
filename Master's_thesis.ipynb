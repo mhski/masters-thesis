{
  "nbformat": 4,
  "nbformat_minor": 0,
  "metadata": {
    "colab": {
      "provenance": []
    },
    "kernelspec": {
      "name": "python3",
      "display_name": "Python 3"
    },
    "language_info": {
      "name": "python"
    },
    "widgets": {
      "application/vnd.jupyter.widget-state+json": {
        "3e9b8c6d8e69430b8c95d5b6cc8c4ac7": {
          "model_module": "@jupyter-widgets/controls",
          "model_name": "HBoxModel",
          "model_module_version": "1.5.0",
          "state": {
            "_dom_classes": [],
            "_model_module": "@jupyter-widgets/controls",
            "_model_module_version": "1.5.0",
            "_model_name": "HBoxModel",
            "_view_count": null,
            "_view_module": "@jupyter-widgets/controls",
            "_view_module_version": "1.5.0",
            "_view_name": "HBoxView",
            "box_style": "",
            "children": [
              "IPY_MODEL_19380f2eb3634562a8f424ca8c6750a4",
              "IPY_MODEL_ed5eea6983494498abe3f24b8dad8ea9",
              "IPY_MODEL_b054187590844bcdb648bb09ec79600a"
            ],
            "layout": "IPY_MODEL_d971a33384e24f6c86367c761c2a7d6e"
          }
        },
        "19380f2eb3634562a8f424ca8c6750a4": {
          "model_module": "@jupyter-widgets/controls",
          "model_name": "HTMLModel",
          "model_module_version": "1.5.0",
          "state": {
            "_dom_classes": [],
            "_model_module": "@jupyter-widgets/controls",
            "_model_module_version": "1.5.0",
            "_model_name": "HTMLModel",
            "_view_count": null,
            "_view_module": "@jupyter-widgets/controls",
            "_view_module_version": "1.5.0",
            "_view_name": "HTMLView",
            "description": "",
            "description_tooltip": null,
            "layout": "IPY_MODEL_b7577b0baf694e9ca6b70f7f074ae7f1",
            "placeholder": "​",
            "style": "IPY_MODEL_f39969a5a0444a3bb25495cecff7d0d1",
            "value": "100%"
          }
        },
        "ed5eea6983494498abe3f24b8dad8ea9": {
          "model_module": "@jupyter-widgets/controls",
          "model_name": "FloatProgressModel",
          "model_module_version": "1.5.0",
          "state": {
            "_dom_classes": [],
            "_model_module": "@jupyter-widgets/controls",
            "_model_module_version": "1.5.0",
            "_model_name": "FloatProgressModel",
            "_view_count": null,
            "_view_module": "@jupyter-widgets/controls",
            "_view_module_version": "1.5.0",
            "_view_name": "ProgressView",
            "bar_style": "success",
            "description": "",
            "description_tooltip": null,
            "layout": "IPY_MODEL_ead184f41d24435ab9180a90c127744c",
            "max": 100,
            "min": 0,
            "orientation": "horizontal",
            "style": "IPY_MODEL_aef7ecf0bd724d74974b9cdc5e44f94c",
            "value": 100
          }
        },
        "b054187590844bcdb648bb09ec79600a": {
          "model_module": "@jupyter-widgets/controls",
          "model_name": "HTMLModel",
          "model_module_version": "1.5.0",
          "state": {
            "_dom_classes": [],
            "_model_module": "@jupyter-widgets/controls",
            "_model_module_version": "1.5.0",
            "_model_name": "HTMLModel",
            "_view_count": null,
            "_view_module": "@jupyter-widgets/controls",
            "_view_module_version": "1.5.0",
            "_view_name": "HTMLView",
            "description": "",
            "description_tooltip": null,
            "layout": "IPY_MODEL_0acf894e725342b48199fcf4de494ceb",
            "placeholder": "​",
            "style": "IPY_MODEL_84a648f9c9264d8abaa38f2bc7e10ae9",
            "value": " 100/100 [00:08&lt;00:00, 11.08epoch/s, loss=0.0991, accuracy=0.971, val_loss=0.47, val_accuracy=0.857]"
          }
        },
        "d971a33384e24f6c86367c761c2a7d6e": {
          "model_module": "@jupyter-widgets/base",
          "model_name": "LayoutModel",
          "model_module_version": "1.2.0",
          "state": {
            "_model_module": "@jupyter-widgets/base",
            "_model_module_version": "1.2.0",
            "_model_name": "LayoutModel",
            "_view_count": null,
            "_view_module": "@jupyter-widgets/base",
            "_view_module_version": "1.2.0",
            "_view_name": "LayoutView",
            "align_content": null,
            "align_items": null,
            "align_self": null,
            "border": null,
            "bottom": null,
            "display": null,
            "flex": null,
            "flex_flow": null,
            "grid_area": null,
            "grid_auto_columns": null,
            "grid_auto_flow": null,
            "grid_auto_rows": null,
            "grid_column": null,
            "grid_gap": null,
            "grid_row": null,
            "grid_template_areas": null,
            "grid_template_columns": null,
            "grid_template_rows": null,
            "height": null,
            "justify_content": null,
            "justify_items": null,
            "left": null,
            "margin": null,
            "max_height": null,
            "max_width": null,
            "min_height": null,
            "min_width": null,
            "object_fit": null,
            "object_position": null,
            "order": null,
            "overflow": null,
            "overflow_x": null,
            "overflow_y": null,
            "padding": null,
            "right": null,
            "top": null,
            "visibility": null,
            "width": null
          }
        },
        "b7577b0baf694e9ca6b70f7f074ae7f1": {
          "model_module": "@jupyter-widgets/base",
          "model_name": "LayoutModel",
          "model_module_version": "1.2.0",
          "state": {
            "_model_module": "@jupyter-widgets/base",
            "_model_module_version": "1.2.0",
            "_model_name": "LayoutModel",
            "_view_count": null,
            "_view_module": "@jupyter-widgets/base",
            "_view_module_version": "1.2.0",
            "_view_name": "LayoutView",
            "align_content": null,
            "align_items": null,
            "align_self": null,
            "border": null,
            "bottom": null,
            "display": null,
            "flex": null,
            "flex_flow": null,
            "grid_area": null,
            "grid_auto_columns": null,
            "grid_auto_flow": null,
            "grid_auto_rows": null,
            "grid_column": null,
            "grid_gap": null,
            "grid_row": null,
            "grid_template_areas": null,
            "grid_template_columns": null,
            "grid_template_rows": null,
            "height": null,
            "justify_content": null,
            "justify_items": null,
            "left": null,
            "margin": null,
            "max_height": null,
            "max_width": null,
            "min_height": null,
            "min_width": null,
            "object_fit": null,
            "object_position": null,
            "order": null,
            "overflow": null,
            "overflow_x": null,
            "overflow_y": null,
            "padding": null,
            "right": null,
            "top": null,
            "visibility": null,
            "width": null
          }
        },
        "f39969a5a0444a3bb25495cecff7d0d1": {
          "model_module": "@jupyter-widgets/controls",
          "model_name": "DescriptionStyleModel",
          "model_module_version": "1.5.0",
          "state": {
            "_model_module": "@jupyter-widgets/controls",
            "_model_module_version": "1.5.0",
            "_model_name": "DescriptionStyleModel",
            "_view_count": null,
            "_view_module": "@jupyter-widgets/base",
            "_view_module_version": "1.2.0",
            "_view_name": "StyleView",
            "description_width": ""
          }
        },
        "ead184f41d24435ab9180a90c127744c": {
          "model_module": "@jupyter-widgets/base",
          "model_name": "LayoutModel",
          "model_module_version": "1.2.0",
          "state": {
            "_model_module": "@jupyter-widgets/base",
            "_model_module_version": "1.2.0",
            "_model_name": "LayoutModel",
            "_view_count": null,
            "_view_module": "@jupyter-widgets/base",
            "_view_module_version": "1.2.0",
            "_view_name": "LayoutView",
            "align_content": null,
            "align_items": null,
            "align_self": null,
            "border": null,
            "bottom": null,
            "display": null,
            "flex": null,
            "flex_flow": null,
            "grid_area": null,
            "grid_auto_columns": null,
            "grid_auto_flow": null,
            "grid_auto_rows": null,
            "grid_column": null,
            "grid_gap": null,
            "grid_row": null,
            "grid_template_areas": null,
            "grid_template_columns": null,
            "grid_template_rows": null,
            "height": null,
            "justify_content": null,
            "justify_items": null,
            "left": null,
            "margin": null,
            "max_height": null,
            "max_width": null,
            "min_height": null,
            "min_width": null,
            "object_fit": null,
            "object_position": null,
            "order": null,
            "overflow": null,
            "overflow_x": null,
            "overflow_y": null,
            "padding": null,
            "right": null,
            "top": null,
            "visibility": null,
            "width": null
          }
        },
        "aef7ecf0bd724d74974b9cdc5e44f94c": {
          "model_module": "@jupyter-widgets/controls",
          "model_name": "ProgressStyleModel",
          "model_module_version": "1.5.0",
          "state": {
            "_model_module": "@jupyter-widgets/controls",
            "_model_module_version": "1.5.0",
            "_model_name": "ProgressStyleModel",
            "_view_count": null,
            "_view_module": "@jupyter-widgets/base",
            "_view_module_version": "1.2.0",
            "_view_name": "StyleView",
            "bar_color": null,
            "description_width": ""
          }
        },
        "0acf894e725342b48199fcf4de494ceb": {
          "model_module": "@jupyter-widgets/base",
          "model_name": "LayoutModel",
          "model_module_version": "1.2.0",
          "state": {
            "_model_module": "@jupyter-widgets/base",
            "_model_module_version": "1.2.0",
            "_model_name": "LayoutModel",
            "_view_count": null,
            "_view_module": "@jupyter-widgets/base",
            "_view_module_version": "1.2.0",
            "_view_name": "LayoutView",
            "align_content": null,
            "align_items": null,
            "align_self": null,
            "border": null,
            "bottom": null,
            "display": null,
            "flex": null,
            "flex_flow": null,
            "grid_area": null,
            "grid_auto_columns": null,
            "grid_auto_flow": null,
            "grid_auto_rows": null,
            "grid_column": null,
            "grid_gap": null,
            "grid_row": null,
            "grid_template_areas": null,
            "grid_template_columns": null,
            "grid_template_rows": null,
            "height": null,
            "justify_content": null,
            "justify_items": null,
            "left": null,
            "margin": null,
            "max_height": null,
            "max_width": null,
            "min_height": null,
            "min_width": null,
            "object_fit": null,
            "object_position": null,
            "order": null,
            "overflow": null,
            "overflow_x": null,
            "overflow_y": null,
            "padding": null,
            "right": null,
            "top": null,
            "visibility": null,
            "width": null
          }
        },
        "84a648f9c9264d8abaa38f2bc7e10ae9": {
          "model_module": "@jupyter-widgets/controls",
          "model_name": "DescriptionStyleModel",
          "model_module_version": "1.5.0",
          "state": {
            "_model_module": "@jupyter-widgets/controls",
            "_model_module_version": "1.5.0",
            "_model_name": "DescriptionStyleModel",
            "_view_count": null,
            "_view_module": "@jupyter-widgets/base",
            "_view_module_version": "1.2.0",
            "_view_name": "StyleView",
            "description_width": ""
          }
        },
        "84fec5185d4344a9ae3d6fb77e56293a": {
          "model_module": "@jupyter-widgets/controls",
          "model_name": "HBoxModel",
          "model_module_version": "1.5.0",
          "state": {
            "_dom_classes": [],
            "_model_module": "@jupyter-widgets/controls",
            "_model_module_version": "1.5.0",
            "_model_name": "HBoxModel",
            "_view_count": null,
            "_view_module": "@jupyter-widgets/controls",
            "_view_module_version": "1.5.0",
            "_view_name": "HBoxView",
            "box_style": "",
            "children": [
              "IPY_MODEL_b2ecb625bfe749ba833810a1053de2d0",
              "IPY_MODEL_9094689ec5714974a78e9487c19674a6",
              "IPY_MODEL_07c385d0c6dc461db939018ff86c805d"
            ],
            "layout": "IPY_MODEL_fd85f7e816b04d4bac5d57c4e06adbb1"
          }
        },
        "b2ecb625bfe749ba833810a1053de2d0": {
          "model_module": "@jupyter-widgets/controls",
          "model_name": "HTMLModel",
          "model_module_version": "1.5.0",
          "state": {
            "_dom_classes": [],
            "_model_module": "@jupyter-widgets/controls",
            "_model_module_version": "1.5.0",
            "_model_name": "HTMLModel",
            "_view_count": null,
            "_view_module": "@jupyter-widgets/controls",
            "_view_module_version": "1.5.0",
            "_view_name": "HTMLView",
            "description": "",
            "description_tooltip": null,
            "layout": "IPY_MODEL_dbc0f10f49f4443ba3004c700208c747",
            "placeholder": "​",
            "style": "IPY_MODEL_c804b1b8040c4cd08281eea8742c34e5",
            "value": "  0%"
          }
        },
        "9094689ec5714974a78e9487c19674a6": {
          "model_module": "@jupyter-widgets/controls",
          "model_name": "FloatProgressModel",
          "model_module_version": "1.5.0",
          "state": {
            "_dom_classes": [],
            "_model_module": "@jupyter-widgets/controls",
            "_model_module_version": "1.5.0",
            "_model_name": "FloatProgressModel",
            "_view_count": null,
            "_view_module": "@jupyter-widgets/controls",
            "_view_module_version": "1.5.0",
            "_view_name": "ProgressView",
            "bar_style": "",
            "description": "",
            "description_tooltip": null,
            "layout": "IPY_MODEL_fcbcb68a0bb04d819bd35fd73f87cf9c",
            "max": 19,
            "min": 0,
            "orientation": "horizontal",
            "style": "IPY_MODEL_e87a4b349210485a98b504984991cbf4",
            "value": 19
          }
        },
        "07c385d0c6dc461db939018ff86c805d": {
          "model_module": "@jupyter-widgets/controls",
          "model_name": "HTMLModel",
          "model_module_version": "1.5.0",
          "state": {
            "_dom_classes": [],
            "_model_module": "@jupyter-widgets/controls",
            "_model_module_version": "1.5.0",
            "_model_name": "HTMLModel",
            "_view_count": null,
            "_view_module": "@jupyter-widgets/controls",
            "_view_module_version": "1.5.0",
            "_view_name": "HTMLView",
            "description": "",
            "description_tooltip": null,
            "layout": "IPY_MODEL_387b0846d1604f01bd24b550e9da0880",
            "placeholder": "​",
            "style": "IPY_MODEL_9a246bdd010d4d65b209fcf4b2a700ae",
            "value": " 0.00/19.0 [00:00&lt;?, ?batch/s, loss=0.0995, accuracy=0.973]"
          }
        },
        "fd85f7e816b04d4bac5d57c4e06adbb1": {
          "model_module": "@jupyter-widgets/base",
          "model_name": "LayoutModel",
          "model_module_version": "1.2.0",
          "state": {
            "_model_module": "@jupyter-widgets/base",
            "_model_module_version": "1.2.0",
            "_model_name": "LayoutModel",
            "_view_count": null,
            "_view_module": "@jupyter-widgets/base",
            "_view_module_version": "1.2.0",
            "_view_name": "LayoutView",
            "align_content": null,
            "align_items": null,
            "align_self": null,
            "border": null,
            "bottom": null,
            "display": null,
            "flex": null,
            "flex_flow": null,
            "grid_area": null,
            "grid_auto_columns": null,
            "grid_auto_flow": null,
            "grid_auto_rows": null,
            "grid_column": null,
            "grid_gap": null,
            "grid_row": null,
            "grid_template_areas": null,
            "grid_template_columns": null,
            "grid_template_rows": null,
            "height": null,
            "justify_content": null,
            "justify_items": null,
            "left": null,
            "margin": null,
            "max_height": null,
            "max_width": null,
            "min_height": null,
            "min_width": null,
            "object_fit": null,
            "object_position": null,
            "order": null,
            "overflow": null,
            "overflow_x": null,
            "overflow_y": null,
            "padding": null,
            "right": null,
            "top": null,
            "visibility": "hidden",
            "width": null
          }
        },
        "dbc0f10f49f4443ba3004c700208c747": {
          "model_module": "@jupyter-widgets/base",
          "model_name": "LayoutModel",
          "model_module_version": "1.2.0",
          "state": {
            "_model_module": "@jupyter-widgets/base",
            "_model_module_version": "1.2.0",
            "_model_name": "LayoutModel",
            "_view_count": null,
            "_view_module": "@jupyter-widgets/base",
            "_view_module_version": "1.2.0",
            "_view_name": "LayoutView",
            "align_content": null,
            "align_items": null,
            "align_self": null,
            "border": null,
            "bottom": null,
            "display": null,
            "flex": null,
            "flex_flow": null,
            "grid_area": null,
            "grid_auto_columns": null,
            "grid_auto_flow": null,
            "grid_auto_rows": null,
            "grid_column": null,
            "grid_gap": null,
            "grid_row": null,
            "grid_template_areas": null,
            "grid_template_columns": null,
            "grid_template_rows": null,
            "height": null,
            "justify_content": null,
            "justify_items": null,
            "left": null,
            "margin": null,
            "max_height": null,
            "max_width": null,
            "min_height": null,
            "min_width": null,
            "object_fit": null,
            "object_position": null,
            "order": null,
            "overflow": null,
            "overflow_x": null,
            "overflow_y": null,
            "padding": null,
            "right": null,
            "top": null,
            "visibility": null,
            "width": null
          }
        },
        "c804b1b8040c4cd08281eea8742c34e5": {
          "model_module": "@jupyter-widgets/controls",
          "model_name": "DescriptionStyleModel",
          "model_module_version": "1.5.0",
          "state": {
            "_model_module": "@jupyter-widgets/controls",
            "_model_module_version": "1.5.0",
            "_model_name": "DescriptionStyleModel",
            "_view_count": null,
            "_view_module": "@jupyter-widgets/base",
            "_view_module_version": "1.2.0",
            "_view_name": "StyleView",
            "description_width": ""
          }
        },
        "fcbcb68a0bb04d819bd35fd73f87cf9c": {
          "model_module": "@jupyter-widgets/base",
          "model_name": "LayoutModel",
          "model_module_version": "1.2.0",
          "state": {
            "_model_module": "@jupyter-widgets/base",
            "_model_module_version": "1.2.0",
            "_model_name": "LayoutModel",
            "_view_count": null,
            "_view_module": "@jupyter-widgets/base",
            "_view_module_version": "1.2.0",
            "_view_name": "LayoutView",
            "align_content": null,
            "align_items": null,
            "align_self": null,
            "border": null,
            "bottom": null,
            "display": null,
            "flex": null,
            "flex_flow": null,
            "grid_area": null,
            "grid_auto_columns": null,
            "grid_auto_flow": null,
            "grid_auto_rows": null,
            "grid_column": null,
            "grid_gap": null,
            "grid_row": null,
            "grid_template_areas": null,
            "grid_template_columns": null,
            "grid_template_rows": null,
            "height": null,
            "justify_content": null,
            "justify_items": null,
            "left": null,
            "margin": null,
            "max_height": null,
            "max_width": null,
            "min_height": null,
            "min_width": null,
            "object_fit": null,
            "object_position": null,
            "order": null,
            "overflow": null,
            "overflow_x": null,
            "overflow_y": null,
            "padding": null,
            "right": null,
            "top": null,
            "visibility": null,
            "width": null
          }
        },
        "e87a4b349210485a98b504984991cbf4": {
          "model_module": "@jupyter-widgets/controls",
          "model_name": "ProgressStyleModel",
          "model_module_version": "1.5.0",
          "state": {
            "_model_module": "@jupyter-widgets/controls",
            "_model_module_version": "1.5.0",
            "_model_name": "ProgressStyleModel",
            "_view_count": null,
            "_view_module": "@jupyter-widgets/base",
            "_view_module_version": "1.2.0",
            "_view_name": "StyleView",
            "bar_color": null,
            "description_width": ""
          }
        },
        "387b0846d1604f01bd24b550e9da0880": {
          "model_module": "@jupyter-widgets/base",
          "model_name": "LayoutModel",
          "model_module_version": "1.2.0",
          "state": {
            "_model_module": "@jupyter-widgets/base",
            "_model_module_version": "1.2.0",
            "_model_name": "LayoutModel",
            "_view_count": null,
            "_view_module": "@jupyter-widgets/base",
            "_view_module_version": "1.2.0",
            "_view_name": "LayoutView",
            "align_content": null,
            "align_items": null,
            "align_self": null,
            "border": null,
            "bottom": null,
            "display": null,
            "flex": null,
            "flex_flow": null,
            "grid_area": null,
            "grid_auto_columns": null,
            "grid_auto_flow": null,
            "grid_auto_rows": null,
            "grid_column": null,
            "grid_gap": null,
            "grid_row": null,
            "grid_template_areas": null,
            "grid_template_columns": null,
            "grid_template_rows": null,
            "height": null,
            "justify_content": null,
            "justify_items": null,
            "left": null,
            "margin": null,
            "max_height": null,
            "max_width": null,
            "min_height": null,
            "min_width": null,
            "object_fit": null,
            "object_position": null,
            "order": null,
            "overflow": null,
            "overflow_x": null,
            "overflow_y": null,
            "padding": null,
            "right": null,
            "top": null,
            "visibility": null,
            "width": null
          }
        },
        "9a246bdd010d4d65b209fcf4b2a700ae": {
          "model_module": "@jupyter-widgets/controls",
          "model_name": "DescriptionStyleModel",
          "model_module_version": "1.5.0",
          "state": {
            "_model_module": "@jupyter-widgets/controls",
            "_model_module_version": "1.5.0",
            "_model_name": "DescriptionStyleModel",
            "_view_count": null,
            "_view_module": "@jupyter-widgets/base",
            "_view_module_version": "1.2.0",
            "_view_name": "StyleView",
            "description_width": ""
          }
        },
        "8e299b654f33472e8ecd21e3d3fab036": {
          "model_module": "@jupyter-widgets/controls",
          "model_name": "HBoxModel",
          "model_module_version": "1.5.0",
          "state": {
            "_dom_classes": [],
            "_model_module": "@jupyter-widgets/controls",
            "_model_module_version": "1.5.0",
            "_model_name": "HBoxModel",
            "_view_count": null,
            "_view_module": "@jupyter-widgets/controls",
            "_view_module_version": "1.5.0",
            "_view_name": "HBoxView",
            "box_style": "",
            "children": [
              "IPY_MODEL_f0c9d31bdb934ccbac9fdbb3ee49168c",
              "IPY_MODEL_46769d6a3fc54f1190e000e78d3cc7db",
              "IPY_MODEL_56f95306f64f4bca97ef3e6ef23f75cb"
            ],
            "layout": "IPY_MODEL_f4f9c56b784b49d89279496a33230f8e"
          }
        },
        "f0c9d31bdb934ccbac9fdbb3ee49168c": {
          "model_module": "@jupyter-widgets/controls",
          "model_name": "HTMLModel",
          "model_module_version": "1.5.0",
          "state": {
            "_dom_classes": [],
            "_model_module": "@jupyter-widgets/controls",
            "_model_module_version": "1.5.0",
            "_model_name": "HTMLModel",
            "_view_count": null,
            "_view_module": "@jupyter-widgets/controls",
            "_view_module_version": "1.5.0",
            "_view_name": "HTMLView",
            "description": "",
            "description_tooltip": null,
            "layout": "IPY_MODEL_47a5b200a4bc44329101273c675f7fd6",
            "placeholder": "​",
            "style": "IPY_MODEL_5ffc07f906c14faab74fa0b5f6a6e104",
            "value": "100%"
          }
        },
        "46769d6a3fc54f1190e000e78d3cc7db": {
          "model_module": "@jupyter-widgets/controls",
          "model_name": "FloatProgressModel",
          "model_module_version": "1.5.0",
          "state": {
            "_dom_classes": [],
            "_model_module": "@jupyter-widgets/controls",
            "_model_module_version": "1.5.0",
            "_model_name": "FloatProgressModel",
            "_view_count": null,
            "_view_module": "@jupyter-widgets/controls",
            "_view_module_version": "1.5.0",
            "_view_name": "ProgressView",
            "bar_style": "success",
            "description": "",
            "description_tooltip": null,
            "layout": "IPY_MODEL_56831d817b874c06a9a8fa70e3340ef9",
            "max": 200,
            "min": 0,
            "orientation": "horizontal",
            "style": "IPY_MODEL_315de75758c340c3b3a8a6495dcae0fc",
            "value": 200
          }
        },
        "56f95306f64f4bca97ef3e6ef23f75cb": {
          "model_module": "@jupyter-widgets/controls",
          "model_name": "HTMLModel",
          "model_module_version": "1.5.0",
          "state": {
            "_dom_classes": [],
            "_model_module": "@jupyter-widgets/controls",
            "_model_module_version": "1.5.0",
            "_model_name": "HTMLModel",
            "_view_count": null,
            "_view_module": "@jupyter-widgets/controls",
            "_view_module_version": "1.5.0",
            "_view_name": "HTMLView",
            "description": "",
            "description_tooltip": null,
            "layout": "IPY_MODEL_a6c7912178df4b08a124029e8d186c7a",
            "placeholder": "​",
            "style": "IPY_MODEL_0a6811011b2946a89e58bd1b357d6bd4",
            "value": " 200/200 [00:23&lt;00:00, 11.81epoch/s, loss=0.289, accuracy=0.908, val_loss=0.554, val_accuracy=0.85]"
          }
        },
        "f4f9c56b784b49d89279496a33230f8e": {
          "model_module": "@jupyter-widgets/base",
          "model_name": "LayoutModel",
          "model_module_version": "1.2.0",
          "state": {
            "_model_module": "@jupyter-widgets/base",
            "_model_module_version": "1.2.0",
            "_model_name": "LayoutModel",
            "_view_count": null,
            "_view_module": "@jupyter-widgets/base",
            "_view_module_version": "1.2.0",
            "_view_name": "LayoutView",
            "align_content": null,
            "align_items": null,
            "align_self": null,
            "border": null,
            "bottom": null,
            "display": null,
            "flex": null,
            "flex_flow": null,
            "grid_area": null,
            "grid_auto_columns": null,
            "grid_auto_flow": null,
            "grid_auto_rows": null,
            "grid_column": null,
            "grid_gap": null,
            "grid_row": null,
            "grid_template_areas": null,
            "grid_template_columns": null,
            "grid_template_rows": null,
            "height": null,
            "justify_content": null,
            "justify_items": null,
            "left": null,
            "margin": null,
            "max_height": null,
            "max_width": null,
            "min_height": null,
            "min_width": null,
            "object_fit": null,
            "object_position": null,
            "order": null,
            "overflow": null,
            "overflow_x": null,
            "overflow_y": null,
            "padding": null,
            "right": null,
            "top": null,
            "visibility": null,
            "width": null
          }
        },
        "47a5b200a4bc44329101273c675f7fd6": {
          "model_module": "@jupyter-widgets/base",
          "model_name": "LayoutModel",
          "model_module_version": "1.2.0",
          "state": {
            "_model_module": "@jupyter-widgets/base",
            "_model_module_version": "1.2.0",
            "_model_name": "LayoutModel",
            "_view_count": null,
            "_view_module": "@jupyter-widgets/base",
            "_view_module_version": "1.2.0",
            "_view_name": "LayoutView",
            "align_content": null,
            "align_items": null,
            "align_self": null,
            "border": null,
            "bottom": null,
            "display": null,
            "flex": null,
            "flex_flow": null,
            "grid_area": null,
            "grid_auto_columns": null,
            "grid_auto_flow": null,
            "grid_auto_rows": null,
            "grid_column": null,
            "grid_gap": null,
            "grid_row": null,
            "grid_template_areas": null,
            "grid_template_columns": null,
            "grid_template_rows": null,
            "height": null,
            "justify_content": null,
            "justify_items": null,
            "left": null,
            "margin": null,
            "max_height": null,
            "max_width": null,
            "min_height": null,
            "min_width": null,
            "object_fit": null,
            "object_position": null,
            "order": null,
            "overflow": null,
            "overflow_x": null,
            "overflow_y": null,
            "padding": null,
            "right": null,
            "top": null,
            "visibility": null,
            "width": null
          }
        },
        "5ffc07f906c14faab74fa0b5f6a6e104": {
          "model_module": "@jupyter-widgets/controls",
          "model_name": "DescriptionStyleModel",
          "model_module_version": "1.5.0",
          "state": {
            "_model_module": "@jupyter-widgets/controls",
            "_model_module_version": "1.5.0",
            "_model_name": "DescriptionStyleModel",
            "_view_count": null,
            "_view_module": "@jupyter-widgets/base",
            "_view_module_version": "1.2.0",
            "_view_name": "StyleView",
            "description_width": ""
          }
        },
        "56831d817b874c06a9a8fa70e3340ef9": {
          "model_module": "@jupyter-widgets/base",
          "model_name": "LayoutModel",
          "model_module_version": "1.2.0",
          "state": {
            "_model_module": "@jupyter-widgets/base",
            "_model_module_version": "1.2.0",
            "_model_name": "LayoutModel",
            "_view_count": null,
            "_view_module": "@jupyter-widgets/base",
            "_view_module_version": "1.2.0",
            "_view_name": "LayoutView",
            "align_content": null,
            "align_items": null,
            "align_self": null,
            "border": null,
            "bottom": null,
            "display": null,
            "flex": null,
            "flex_flow": null,
            "grid_area": null,
            "grid_auto_columns": null,
            "grid_auto_flow": null,
            "grid_auto_rows": null,
            "grid_column": null,
            "grid_gap": null,
            "grid_row": null,
            "grid_template_areas": null,
            "grid_template_columns": null,
            "grid_template_rows": null,
            "height": null,
            "justify_content": null,
            "justify_items": null,
            "left": null,
            "margin": null,
            "max_height": null,
            "max_width": null,
            "min_height": null,
            "min_width": null,
            "object_fit": null,
            "object_position": null,
            "order": null,
            "overflow": null,
            "overflow_x": null,
            "overflow_y": null,
            "padding": null,
            "right": null,
            "top": null,
            "visibility": null,
            "width": null
          }
        },
        "315de75758c340c3b3a8a6495dcae0fc": {
          "model_module": "@jupyter-widgets/controls",
          "model_name": "ProgressStyleModel",
          "model_module_version": "1.5.0",
          "state": {
            "_model_module": "@jupyter-widgets/controls",
            "_model_module_version": "1.5.0",
            "_model_name": "ProgressStyleModel",
            "_view_count": null,
            "_view_module": "@jupyter-widgets/base",
            "_view_module_version": "1.2.0",
            "_view_name": "StyleView",
            "bar_color": null,
            "description_width": ""
          }
        },
        "a6c7912178df4b08a124029e8d186c7a": {
          "model_module": "@jupyter-widgets/base",
          "model_name": "LayoutModel",
          "model_module_version": "1.2.0",
          "state": {
            "_model_module": "@jupyter-widgets/base",
            "_model_module_version": "1.2.0",
            "_model_name": "LayoutModel",
            "_view_count": null,
            "_view_module": "@jupyter-widgets/base",
            "_view_module_version": "1.2.0",
            "_view_name": "LayoutView",
            "align_content": null,
            "align_items": null,
            "align_self": null,
            "border": null,
            "bottom": null,
            "display": null,
            "flex": null,
            "flex_flow": null,
            "grid_area": null,
            "grid_auto_columns": null,
            "grid_auto_flow": null,
            "grid_auto_rows": null,
            "grid_column": null,
            "grid_gap": null,
            "grid_row": null,
            "grid_template_areas": null,
            "grid_template_columns": null,
            "grid_template_rows": null,
            "height": null,
            "justify_content": null,
            "justify_items": null,
            "left": null,
            "margin": null,
            "max_height": null,
            "max_width": null,
            "min_height": null,
            "min_width": null,
            "object_fit": null,
            "object_position": null,
            "order": null,
            "overflow": null,
            "overflow_x": null,
            "overflow_y": null,
            "padding": null,
            "right": null,
            "top": null,
            "visibility": null,
            "width": null
          }
        },
        "0a6811011b2946a89e58bd1b357d6bd4": {
          "model_module": "@jupyter-widgets/controls",
          "model_name": "DescriptionStyleModel",
          "model_module_version": "1.5.0",
          "state": {
            "_model_module": "@jupyter-widgets/controls",
            "_model_module_version": "1.5.0",
            "_model_name": "DescriptionStyleModel",
            "_view_count": null,
            "_view_module": "@jupyter-widgets/base",
            "_view_module_version": "1.2.0",
            "_view_name": "StyleView",
            "description_width": ""
          }
        },
        "bbaafc6328aa48d2be667add9ea6cbe8": {
          "model_module": "@jupyter-widgets/controls",
          "model_name": "HBoxModel",
          "model_module_version": "1.5.0",
          "state": {
            "_dom_classes": [],
            "_model_module": "@jupyter-widgets/controls",
            "_model_module_version": "1.5.0",
            "_model_name": "HBoxModel",
            "_view_count": null,
            "_view_module": "@jupyter-widgets/controls",
            "_view_module_version": "1.5.0",
            "_view_name": "HBoxView",
            "box_style": "",
            "children": [
              "IPY_MODEL_0d066b2b1f4c41d3b33df110aa72a75d",
              "IPY_MODEL_2947c21e0dbe4feb85f3592d213a5e38",
              "IPY_MODEL_37494324f16f448ba6023bd71252bd72"
            ],
            "layout": "IPY_MODEL_25a62eef302a41839c7b76b6e7b9954d"
          }
        },
        "0d066b2b1f4c41d3b33df110aa72a75d": {
          "model_module": "@jupyter-widgets/controls",
          "model_name": "HTMLModel",
          "model_module_version": "1.5.0",
          "state": {
            "_dom_classes": [],
            "_model_module": "@jupyter-widgets/controls",
            "_model_module_version": "1.5.0",
            "_model_name": "HTMLModel",
            "_view_count": null,
            "_view_module": "@jupyter-widgets/controls",
            "_view_module_version": "1.5.0",
            "_view_name": "HTMLView",
            "description": "",
            "description_tooltip": null,
            "layout": "IPY_MODEL_53df928e489a47f5a3fa5519118e52b6",
            "placeholder": "​",
            "style": "IPY_MODEL_48d9bae6b0c2456f80ff6ff6faba0e53",
            "value": "  0%"
          }
        },
        "2947c21e0dbe4feb85f3592d213a5e38": {
          "model_module": "@jupyter-widgets/controls",
          "model_name": "FloatProgressModel",
          "model_module_version": "1.5.0",
          "state": {
            "_dom_classes": [],
            "_model_module": "@jupyter-widgets/controls",
            "_model_module_version": "1.5.0",
            "_model_name": "FloatProgressModel",
            "_view_count": null,
            "_view_module": "@jupyter-widgets/controls",
            "_view_module_version": "1.5.0",
            "_view_name": "ProgressView",
            "bar_style": "",
            "description": "",
            "description_tooltip": null,
            "layout": "IPY_MODEL_4756ff0639cf494da094b3e7aa269546",
            "max": 19,
            "min": 0,
            "orientation": "horizontal",
            "style": "IPY_MODEL_0d8a7dd6600f42a5a59dce4874f5401e",
            "value": 19
          }
        },
        "37494324f16f448ba6023bd71252bd72": {
          "model_module": "@jupyter-widgets/controls",
          "model_name": "HTMLModel",
          "model_module_version": "1.5.0",
          "state": {
            "_dom_classes": [],
            "_model_module": "@jupyter-widgets/controls",
            "_model_module_version": "1.5.0",
            "_model_name": "HTMLModel",
            "_view_count": null,
            "_view_module": "@jupyter-widgets/controls",
            "_view_module_version": "1.5.0",
            "_view_name": "HTMLView",
            "description": "",
            "description_tooltip": null,
            "layout": "IPY_MODEL_05ce3b920afe4450b87578ef622ced9b",
            "placeholder": "​",
            "style": "IPY_MODEL_0ff43b0308bb494f9288995e40bd2f6b",
            "value": " 0.00/19.0 [00:00&lt;?, ?batch/s, loss=0.266, accuracy=0.906]"
          }
        },
        "25a62eef302a41839c7b76b6e7b9954d": {
          "model_module": "@jupyter-widgets/base",
          "model_name": "LayoutModel",
          "model_module_version": "1.2.0",
          "state": {
            "_model_module": "@jupyter-widgets/base",
            "_model_module_version": "1.2.0",
            "_model_name": "LayoutModel",
            "_view_count": null,
            "_view_module": "@jupyter-widgets/base",
            "_view_module_version": "1.2.0",
            "_view_name": "LayoutView",
            "align_content": null,
            "align_items": null,
            "align_self": null,
            "border": null,
            "bottom": null,
            "display": null,
            "flex": null,
            "flex_flow": null,
            "grid_area": null,
            "grid_auto_columns": null,
            "grid_auto_flow": null,
            "grid_auto_rows": null,
            "grid_column": null,
            "grid_gap": null,
            "grid_row": null,
            "grid_template_areas": null,
            "grid_template_columns": null,
            "grid_template_rows": null,
            "height": null,
            "justify_content": null,
            "justify_items": null,
            "left": null,
            "margin": null,
            "max_height": null,
            "max_width": null,
            "min_height": null,
            "min_width": null,
            "object_fit": null,
            "object_position": null,
            "order": null,
            "overflow": null,
            "overflow_x": null,
            "overflow_y": null,
            "padding": null,
            "right": null,
            "top": null,
            "visibility": "hidden",
            "width": null
          }
        },
        "53df928e489a47f5a3fa5519118e52b6": {
          "model_module": "@jupyter-widgets/base",
          "model_name": "LayoutModel",
          "model_module_version": "1.2.0",
          "state": {
            "_model_module": "@jupyter-widgets/base",
            "_model_module_version": "1.2.0",
            "_model_name": "LayoutModel",
            "_view_count": null,
            "_view_module": "@jupyter-widgets/base",
            "_view_module_version": "1.2.0",
            "_view_name": "LayoutView",
            "align_content": null,
            "align_items": null,
            "align_self": null,
            "border": null,
            "bottom": null,
            "display": null,
            "flex": null,
            "flex_flow": null,
            "grid_area": null,
            "grid_auto_columns": null,
            "grid_auto_flow": null,
            "grid_auto_rows": null,
            "grid_column": null,
            "grid_gap": null,
            "grid_row": null,
            "grid_template_areas": null,
            "grid_template_columns": null,
            "grid_template_rows": null,
            "height": null,
            "justify_content": null,
            "justify_items": null,
            "left": null,
            "margin": null,
            "max_height": null,
            "max_width": null,
            "min_height": null,
            "min_width": null,
            "object_fit": null,
            "object_position": null,
            "order": null,
            "overflow": null,
            "overflow_x": null,
            "overflow_y": null,
            "padding": null,
            "right": null,
            "top": null,
            "visibility": null,
            "width": null
          }
        },
        "48d9bae6b0c2456f80ff6ff6faba0e53": {
          "model_module": "@jupyter-widgets/controls",
          "model_name": "DescriptionStyleModel",
          "model_module_version": "1.5.0",
          "state": {
            "_model_module": "@jupyter-widgets/controls",
            "_model_module_version": "1.5.0",
            "_model_name": "DescriptionStyleModel",
            "_view_count": null,
            "_view_module": "@jupyter-widgets/base",
            "_view_module_version": "1.2.0",
            "_view_name": "StyleView",
            "description_width": ""
          }
        },
        "4756ff0639cf494da094b3e7aa269546": {
          "model_module": "@jupyter-widgets/base",
          "model_name": "LayoutModel",
          "model_module_version": "1.2.0",
          "state": {
            "_model_module": "@jupyter-widgets/base",
            "_model_module_version": "1.2.0",
            "_model_name": "LayoutModel",
            "_view_count": null,
            "_view_module": "@jupyter-widgets/base",
            "_view_module_version": "1.2.0",
            "_view_name": "LayoutView",
            "align_content": null,
            "align_items": null,
            "align_self": null,
            "border": null,
            "bottom": null,
            "display": null,
            "flex": null,
            "flex_flow": null,
            "grid_area": null,
            "grid_auto_columns": null,
            "grid_auto_flow": null,
            "grid_auto_rows": null,
            "grid_column": null,
            "grid_gap": null,
            "grid_row": null,
            "grid_template_areas": null,
            "grid_template_columns": null,
            "grid_template_rows": null,
            "height": null,
            "justify_content": null,
            "justify_items": null,
            "left": null,
            "margin": null,
            "max_height": null,
            "max_width": null,
            "min_height": null,
            "min_width": null,
            "object_fit": null,
            "object_position": null,
            "order": null,
            "overflow": null,
            "overflow_x": null,
            "overflow_y": null,
            "padding": null,
            "right": null,
            "top": null,
            "visibility": null,
            "width": null
          }
        },
        "0d8a7dd6600f42a5a59dce4874f5401e": {
          "model_module": "@jupyter-widgets/controls",
          "model_name": "ProgressStyleModel",
          "model_module_version": "1.5.0",
          "state": {
            "_model_module": "@jupyter-widgets/controls",
            "_model_module_version": "1.5.0",
            "_model_name": "ProgressStyleModel",
            "_view_count": null,
            "_view_module": "@jupyter-widgets/base",
            "_view_module_version": "1.2.0",
            "_view_name": "StyleView",
            "bar_color": null,
            "description_width": ""
          }
        },
        "05ce3b920afe4450b87578ef622ced9b": {
          "model_module": "@jupyter-widgets/base",
          "model_name": "LayoutModel",
          "model_module_version": "1.2.0",
          "state": {
            "_model_module": "@jupyter-widgets/base",
            "_model_module_version": "1.2.0",
            "_model_name": "LayoutModel",
            "_view_count": null,
            "_view_module": "@jupyter-widgets/base",
            "_view_module_version": "1.2.0",
            "_view_name": "LayoutView",
            "align_content": null,
            "align_items": null,
            "align_self": null,
            "border": null,
            "bottom": null,
            "display": null,
            "flex": null,
            "flex_flow": null,
            "grid_area": null,
            "grid_auto_columns": null,
            "grid_auto_flow": null,
            "grid_auto_rows": null,
            "grid_column": null,
            "grid_gap": null,
            "grid_row": null,
            "grid_template_areas": null,
            "grid_template_columns": null,
            "grid_template_rows": null,
            "height": null,
            "justify_content": null,
            "justify_items": null,
            "left": null,
            "margin": null,
            "max_height": null,
            "max_width": null,
            "min_height": null,
            "min_width": null,
            "object_fit": null,
            "object_position": null,
            "order": null,
            "overflow": null,
            "overflow_x": null,
            "overflow_y": null,
            "padding": null,
            "right": null,
            "top": null,
            "visibility": null,
            "width": null
          }
        },
        "0ff43b0308bb494f9288995e40bd2f6b": {
          "model_module": "@jupyter-widgets/controls",
          "model_name": "DescriptionStyleModel",
          "model_module_version": "1.5.0",
          "state": {
            "_model_module": "@jupyter-widgets/controls",
            "_model_module_version": "1.5.0",
            "_model_name": "DescriptionStyleModel",
            "_view_count": null,
            "_view_module": "@jupyter-widgets/base",
            "_view_module_version": "1.2.0",
            "_view_name": "StyleView",
            "description_width": ""
          }
        }
      }
    }
  },
  "cells": [
    {
      "cell_type": "code",
      "execution_count": null,
      "metadata": {
        "colab": {
          "base_uri": "https://localhost:8080/"
        },
        "id": "Lyrdq-FH2mBA",
        "outputId": "aec6b96c-8ed2-4148-eab6-108f7427be3e"
      },
      "outputs": [
        {
          "output_type": "stream",
          "name": "stdout",
          "text": [
            "Requirement already satisfied: pandas in /usr/local/lib/python3.10/dist-packages (2.0.3)\n",
            "Requirement already satisfied: python-dateutil>=2.8.2 in /usr/local/lib/python3.10/dist-packages (from pandas) (2.8.2)\n",
            "Requirement already satisfied: pytz>=2020.1 in /usr/local/lib/python3.10/dist-packages (from pandas) (2023.4)\n",
            "Requirement already satisfied: tzdata>=2022.1 in /usr/local/lib/python3.10/dist-packages (from pandas) (2024.1)\n",
            "Requirement already satisfied: numpy>=1.21.0 in /usr/local/lib/python3.10/dist-packages (from pandas) (1.25.2)\n",
            "Requirement already satisfied: six>=1.5 in /usr/local/lib/python3.10/dist-packages (from python-dateutil>=2.8.2->pandas) (1.16.0)\n",
            "Collecting opendatasets\n",
            "  Downloading opendatasets-0.1.22-py3-none-any.whl (15 kB)\n",
            "Requirement already satisfied: tqdm in /usr/local/lib/python3.10/dist-packages (from opendatasets) (4.66.4)\n",
            "Requirement already satisfied: kaggle in /usr/local/lib/python3.10/dist-packages (from opendatasets) (1.6.14)\n",
            "Requirement already satisfied: click in /usr/local/lib/python3.10/dist-packages (from opendatasets) (8.1.7)\n",
            "Requirement already satisfied: six>=1.10 in /usr/local/lib/python3.10/dist-packages (from kaggle->opendatasets) (1.16.0)\n",
            "Requirement already satisfied: certifi>=2023.7.22 in /usr/local/lib/python3.10/dist-packages (from kaggle->opendatasets) (2024.6.2)\n",
            "Requirement already satisfied: python-dateutil in /usr/local/lib/python3.10/dist-packages (from kaggle->opendatasets) (2.8.2)\n",
            "Requirement already satisfied: requests in /usr/local/lib/python3.10/dist-packages (from kaggle->opendatasets) (2.31.0)\n",
            "Requirement already satisfied: python-slugify in /usr/local/lib/python3.10/dist-packages (from kaggle->opendatasets) (8.0.4)\n",
            "Requirement already satisfied: urllib3 in /usr/local/lib/python3.10/dist-packages (from kaggle->opendatasets) (2.0.7)\n",
            "Requirement already satisfied: bleach in /usr/local/lib/python3.10/dist-packages (from kaggle->opendatasets) (6.1.0)\n",
            "Requirement already satisfied: webencodings in /usr/local/lib/python3.10/dist-packages (from bleach->kaggle->opendatasets) (0.5.1)\n",
            "Requirement already satisfied: text-unidecode>=1.3 in /usr/local/lib/python3.10/dist-packages (from python-slugify->kaggle->opendatasets) (1.3)\n",
            "Requirement already satisfied: charset-normalizer<4,>=2 in /usr/local/lib/python3.10/dist-packages (from requests->kaggle->opendatasets) (3.3.2)\n",
            "Requirement already satisfied: idna<4,>=2.5 in /usr/local/lib/python3.10/dist-packages (from requests->kaggle->opendatasets) (3.7)\n",
            "Installing collected packages: opendatasets\n",
            "Successfully installed opendatasets-0.1.22\n"
          ]
        }
      ],
      "source": [
        "!pip install pandas\n",
        "!pip install opendatasets"
      ]
    },
    {
      "cell_type": "code",
      "source": [
        "import opendatasets as od\n",
        "import pandas as pd\n",
        "\n",
        "od.download(\n",
        "    \"https://www.kaggle.com/datasets/fedesoriano/heart-failure-prediction\")"
      ],
      "metadata": {
        "colab": {
          "base_uri": "https://localhost:8080/"
        },
        "id": "gGS5mW2H3wOt",
        "outputId": "efe24bf4-8199-4c49-ee73-4bdf61e8a1b5"
      },
      "execution_count": null,
      "outputs": [
        {
          "output_type": "stream",
          "name": "stdout",
          "text": [
            "Skipping, found downloaded files in \"./heart-failure-prediction\" (use force=True to force download)\n"
          ]
        }
      ]
    },
    {
      "cell_type": "markdown",
      "source": [
        "Age (Wiek) - wiek pacjenta w latach (typ danych: int64)\n",
        "\n",
        "Sex (Płeć) - płeć pacjenta (typ danych: object)\n",
        "\n",
        "ChestPainType (Typ bólu w klatce piersiowej) - typ bólu w klatce piersiowej pacjenta (typ danych: object)\n",
        "\n",
        "RestingBP (Spoczynkowe ciśnienie krwi) - spoczynkowe ciśnienie krwi pacjenta (w mmHg) (typ danych: int64)\n",
        "\n",
        "Cholesterol (Cholesterol) - poziom cholesterolu pacjenta (w mg/dl) (typ danych: int64)\n",
        "\n",
        "FastingBS (Cukier na czczo) - poziom cukru we krwi na czczo pacjenta (typ danych: int64)\n",
        "\n",
        "RestingECG (Spoczynkowe EKG) - wynik elektrokardiogramu spoczynkowego pacjenta (typ danych: object)\n",
        "\n",
        "MaxHR (Maksymalne tętno) - maksymalne osiągnięte tętno pacjenta podczas testu wysiłkowego (typ danych: int64)\n",
        "\n",
        "ExerciseAngina (Dławica wysiłkowa) - czy pacjent doświadcza bólu w klatce piersiowej spowodowanego wysiłkiem fizycznym (typ danych: object)\n",
        "\n",
        "Oldpeak (ST-depresja) - depresja odcinka ST wywołana wysiłkiem fizycznym w stosunku do odpoczynku (typ danych: float64)\n",
        "\n",
        "ST_Slope (Nachylenie odcinka ST) - nachylenie odcinka ST podczas wysiłku (typ danych: object)\n",
        "\n",
        "HeartDisease (Choroba serca) - czy pacjent ma chorobę serca (0 - nie, 1 - tak) (typ danych: int64)"
      ],
      "metadata": {
        "id": "upsA97CahEhU"
      }
    },
    {
      "cell_type": "code",
      "source": [
        "df = pd.read_csv('/content/heart-failure-prediction/heart.csv')"
      ],
      "metadata": {
        "id": "a6SUVkxa4ads"
      },
      "execution_count": null,
      "outputs": []
    },
    {
      "cell_type": "code",
      "source": [
        "columns = list(df.columns)\n",
        "\n",
        "categorical_features = []\n",
        "numerical_features = []\n",
        "\n",
        "for column in columns:\n",
        "    if len(df[column].unique()) > 10:\n",
        "        numerical_features.append(column)\n",
        "    else:\n",
        "        categorical_features.append(column)"
      ],
      "metadata": {
        "id": "k7Zt0hFge66W"
      },
      "execution_count": null,
      "outputs": []
    },
    {
      "cell_type": "code",
      "source": [
        "print('Categorical Features: ', categorical_features, \"\\n\")\n",
        "print('Numerical Features :', numerical_features)"
      ],
      "metadata": {
        "colab": {
          "base_uri": "https://localhost:8080/"
        },
        "id": "ypHAzrAqe-Ek",
        "outputId": "ebac6236-28e7-455f-a959-de85f4889952"
      },
      "execution_count": null,
      "outputs": [
        {
          "output_type": "stream",
          "name": "stdout",
          "text": [
            "Categorical Features:  ['Sex', 'ChestPainType', 'FastingBS', 'RestingECG', 'ExerciseAngina', 'ST_Slope', 'HeartDisease'] \n",
            "\n",
            "Numerical Features : ['Age', 'RestingBP', 'Cholesterol', 'MaxHR', 'Oldpeak']\n"
          ]
        }
      ]
    },
    {
      "cell_type": "code",
      "source": [
        "df.head().T"
      ],
      "metadata": {
        "colab": {
          "base_uri": "https://localhost:8080/",
          "height": 421
        },
        "id": "X1WC95v68ghv",
        "outputId": "8b3d5aa6-b64f-47c4-922e-d4c6ebbf7930"
      },
      "execution_count": null,
      "outputs": [
        {
          "output_type": "execute_result",
          "data": {
            "text/plain": [
              "                     0       1    2       3       4\n",
              "Age                 40      49   37      48      54\n",
              "Sex                  M       F    M       F       M\n",
              "ChestPainType      ATA     NAP  ATA     ASY     NAP\n",
              "RestingBP          140     160  130     138     150\n",
              "Cholesterol        289     180  283     214     195\n",
              "FastingBS            0       0    0       0       0\n",
              "RestingECG      Normal  Normal   ST  Normal  Normal\n",
              "MaxHR              172     156   98     108     122\n",
              "ExerciseAngina       N       N    N       Y       N\n",
              "Oldpeak            0.0     1.0  0.0     1.5     0.0\n",
              "ST_Slope            Up    Flat   Up    Flat      Up\n",
              "HeartDisease         0       1    0       1       0"
            ],
            "text/html": [
              "\n",
              "  <div id=\"df-1dc53090-98e5-496c-aaeb-4414a8eba73a\">\n",
              "    <div class=\"colab-df-container\">\n",
              "      <div>\n",
              "<style scoped>\n",
              "    .dataframe tbody tr th:only-of-type {\n",
              "        vertical-align: middle;\n",
              "    }\n",
              "\n",
              "    .dataframe tbody tr th {\n",
              "        vertical-align: top;\n",
              "    }\n",
              "\n",
              "    .dataframe thead th {\n",
              "        text-align: right;\n",
              "    }\n",
              "</style>\n",
              "<table border=\"1\" class=\"dataframe\">\n",
              "  <thead>\n",
              "    <tr style=\"text-align: right;\">\n",
              "      <th></th>\n",
              "      <th>0</th>\n",
              "      <th>1</th>\n",
              "      <th>2</th>\n",
              "      <th>3</th>\n",
              "      <th>4</th>\n",
              "    </tr>\n",
              "  </thead>\n",
              "  <tbody>\n",
              "    <tr>\n",
              "      <th>Age</th>\n",
              "      <td>40</td>\n",
              "      <td>49</td>\n",
              "      <td>37</td>\n",
              "      <td>48</td>\n",
              "      <td>54</td>\n",
              "    </tr>\n",
              "    <tr>\n",
              "      <th>Sex</th>\n",
              "      <td>M</td>\n",
              "      <td>F</td>\n",
              "      <td>M</td>\n",
              "      <td>F</td>\n",
              "      <td>M</td>\n",
              "    </tr>\n",
              "    <tr>\n",
              "      <th>ChestPainType</th>\n",
              "      <td>ATA</td>\n",
              "      <td>NAP</td>\n",
              "      <td>ATA</td>\n",
              "      <td>ASY</td>\n",
              "      <td>NAP</td>\n",
              "    </tr>\n",
              "    <tr>\n",
              "      <th>RestingBP</th>\n",
              "      <td>140</td>\n",
              "      <td>160</td>\n",
              "      <td>130</td>\n",
              "      <td>138</td>\n",
              "      <td>150</td>\n",
              "    </tr>\n",
              "    <tr>\n",
              "      <th>Cholesterol</th>\n",
              "      <td>289</td>\n",
              "      <td>180</td>\n",
              "      <td>283</td>\n",
              "      <td>214</td>\n",
              "      <td>195</td>\n",
              "    </tr>\n",
              "    <tr>\n",
              "      <th>FastingBS</th>\n",
              "      <td>0</td>\n",
              "      <td>0</td>\n",
              "      <td>0</td>\n",
              "      <td>0</td>\n",
              "      <td>0</td>\n",
              "    </tr>\n",
              "    <tr>\n",
              "      <th>RestingECG</th>\n",
              "      <td>Normal</td>\n",
              "      <td>Normal</td>\n",
              "      <td>ST</td>\n",
              "      <td>Normal</td>\n",
              "      <td>Normal</td>\n",
              "    </tr>\n",
              "    <tr>\n",
              "      <th>MaxHR</th>\n",
              "      <td>172</td>\n",
              "      <td>156</td>\n",
              "      <td>98</td>\n",
              "      <td>108</td>\n",
              "      <td>122</td>\n",
              "    </tr>\n",
              "    <tr>\n",
              "      <th>ExerciseAngina</th>\n",
              "      <td>N</td>\n",
              "      <td>N</td>\n",
              "      <td>N</td>\n",
              "      <td>Y</td>\n",
              "      <td>N</td>\n",
              "    </tr>\n",
              "    <tr>\n",
              "      <th>Oldpeak</th>\n",
              "      <td>0.0</td>\n",
              "      <td>1.0</td>\n",
              "      <td>0.0</td>\n",
              "      <td>1.5</td>\n",
              "      <td>0.0</td>\n",
              "    </tr>\n",
              "    <tr>\n",
              "      <th>ST_Slope</th>\n",
              "      <td>Up</td>\n",
              "      <td>Flat</td>\n",
              "      <td>Up</td>\n",
              "      <td>Flat</td>\n",
              "      <td>Up</td>\n",
              "    </tr>\n",
              "    <tr>\n",
              "      <th>HeartDisease</th>\n",
              "      <td>0</td>\n",
              "      <td>1</td>\n",
              "      <td>0</td>\n",
              "      <td>1</td>\n",
              "      <td>0</td>\n",
              "    </tr>\n",
              "  </tbody>\n",
              "</table>\n",
              "</div>\n",
              "      <button class=\"colab-df-convert\" onclick=\"convertToInteractive('df-1dc53090-98e5-496c-aaeb-4414a8eba73a')\"\n",
              "              title=\"Convert this dataframe to an interactive table.\"\n",
              "              style=\"display:none;\">\n",
              "        \n",
              "  <svg xmlns=\"http://www.w3.org/2000/svg\" height=\"24px\"viewBox=\"0 0 24 24\"\n",
              "       width=\"24px\">\n",
              "    <path d=\"M0 0h24v24H0V0z\" fill=\"none\"/>\n",
              "    <path d=\"M18.56 5.44l.94 2.06.94-2.06 2.06-.94-2.06-.94-.94-2.06-.94 2.06-2.06.94zm-11 1L8.5 8.5l.94-2.06 2.06-.94-2.06-.94L8.5 2.5l-.94 2.06-2.06.94zm10 10l.94 2.06.94-2.06 2.06-.94-2.06-.94-.94-2.06-.94 2.06-2.06.94z\"/><path d=\"M17.41 7.96l-1.37-1.37c-.4-.4-.92-.59-1.43-.59-.52 0-1.04.2-1.43.59L10.3 9.45l-7.72 7.72c-.78.78-.78 2.05 0 2.83L4 21.41c.39.39.9.59 1.41.59.51 0 1.02-.2 1.41-.59l7.78-7.78 2.81-2.81c.8-.78.8-2.07 0-2.86zM5.41 20L4 18.59l7.72-7.72 1.47 1.35L5.41 20z\"/>\n",
              "  </svg>\n",
              "      </button>\n",
              "      \n",
              "  <style>\n",
              "    .colab-df-container {\n",
              "      display:flex;\n",
              "      flex-wrap:wrap;\n",
              "      gap: 12px;\n",
              "    }\n",
              "\n",
              "    .colab-df-convert {\n",
              "      background-color: #E8F0FE;\n",
              "      border: none;\n",
              "      border-radius: 50%;\n",
              "      cursor: pointer;\n",
              "      display: none;\n",
              "      fill: #1967D2;\n",
              "      height: 32px;\n",
              "      padding: 0 0 0 0;\n",
              "      width: 32px;\n",
              "    }\n",
              "\n",
              "    .colab-df-convert:hover {\n",
              "      background-color: #E2EBFA;\n",
              "      box-shadow: 0px 1px 2px rgba(60, 64, 67, 0.3), 0px 1px 3px 1px rgba(60, 64, 67, 0.15);\n",
              "      fill: #174EA6;\n",
              "    }\n",
              "\n",
              "    [theme=dark] .colab-df-convert {\n",
              "      background-color: #3B4455;\n",
              "      fill: #D2E3FC;\n",
              "    }\n",
              "\n",
              "    [theme=dark] .colab-df-convert:hover {\n",
              "      background-color: #434B5C;\n",
              "      box-shadow: 0px 1px 3px 1px rgba(0, 0, 0, 0.15);\n",
              "      filter: drop-shadow(0px 1px 2px rgba(0, 0, 0, 0.3));\n",
              "      fill: #FFFFFF;\n",
              "    }\n",
              "  </style>\n",
              "\n",
              "      <script>\n",
              "        const buttonEl =\n",
              "          document.querySelector('#df-1dc53090-98e5-496c-aaeb-4414a8eba73a button.colab-df-convert');\n",
              "        buttonEl.style.display =\n",
              "          google.colab.kernel.accessAllowed ? 'block' : 'none';\n",
              "\n",
              "        async function convertToInteractive(key) {\n",
              "          const element = document.querySelector('#df-1dc53090-98e5-496c-aaeb-4414a8eba73a');\n",
              "          const dataTable =\n",
              "            await google.colab.kernel.invokeFunction('convertToInteractive',\n",
              "                                                     [key], {});\n",
              "          if (!dataTable) return;\n",
              "\n",
              "          const docLinkHtml = 'Like what you see? Visit the ' +\n",
              "            '<a target=\"_blank\" href=https://colab.research.google.com/notebooks/data_table.ipynb>data table notebook</a>'\n",
              "            + ' to learn more about interactive tables.';\n",
              "          element.innerHTML = '';\n",
              "          dataTable['output_type'] = 'display_data';\n",
              "          await google.colab.output.renderOutput(dataTable, element);\n",
              "          const docLink = document.createElement('div');\n",
              "          docLink.innerHTML = docLinkHtml;\n",
              "          element.appendChild(docLink);\n",
              "        }\n",
              "      </script>\n",
              "    </div>\n",
              "  </div>\n",
              "  "
            ]
          },
          "metadata": {},
          "execution_count": 37
        }
      ]
    },
    {
      "cell_type": "code",
      "source": [
        "df.describe().T"
      ],
      "metadata": {
        "colab": {
          "base_uri": "https://localhost:8080/",
          "height": 266
        },
        "id": "JxuRBz0m8w5B",
        "outputId": "2e125df5-77d4-4c87-932f-ac7da0d7b0e6"
      },
      "execution_count": null,
      "outputs": [
        {
          "output_type": "execute_result",
          "data": {
            "text/plain": [
              "              count        mean         std   min     25%    50%    75%    max\n",
              "Age           918.0   53.510893    9.432617  28.0   47.00   54.0   60.0   77.0\n",
              "RestingBP     918.0  132.396514   18.514154   0.0  120.00  130.0  140.0  200.0\n",
              "Cholesterol   918.0  198.799564  109.384145   0.0  173.25  223.0  267.0  603.0\n",
              "FastingBS     918.0    0.233115    0.423046   0.0    0.00    0.0    0.0    1.0\n",
              "MaxHR         918.0  136.809368   25.460334  60.0  120.00  138.0  156.0  202.0\n",
              "Oldpeak       918.0    0.887364    1.066570  -2.6    0.00    0.6    1.5    6.2\n",
              "HeartDisease  918.0    0.553377    0.497414   0.0    0.00    1.0    1.0    1.0"
            ],
            "text/html": [
              "\n",
              "  <div id=\"df-f3bd7e83-6986-40ae-8ddf-e959bce580b6\">\n",
              "    <div class=\"colab-df-container\">\n",
              "      <div>\n",
              "<style scoped>\n",
              "    .dataframe tbody tr th:only-of-type {\n",
              "        vertical-align: middle;\n",
              "    }\n",
              "\n",
              "    .dataframe tbody tr th {\n",
              "        vertical-align: top;\n",
              "    }\n",
              "\n",
              "    .dataframe thead th {\n",
              "        text-align: right;\n",
              "    }\n",
              "</style>\n",
              "<table border=\"1\" class=\"dataframe\">\n",
              "  <thead>\n",
              "    <tr style=\"text-align: right;\">\n",
              "      <th></th>\n",
              "      <th>count</th>\n",
              "      <th>mean</th>\n",
              "      <th>std</th>\n",
              "      <th>min</th>\n",
              "      <th>25%</th>\n",
              "      <th>50%</th>\n",
              "      <th>75%</th>\n",
              "      <th>max</th>\n",
              "    </tr>\n",
              "  </thead>\n",
              "  <tbody>\n",
              "    <tr>\n",
              "      <th>Age</th>\n",
              "      <td>918.0</td>\n",
              "      <td>53.510893</td>\n",
              "      <td>9.432617</td>\n",
              "      <td>28.0</td>\n",
              "      <td>47.00</td>\n",
              "      <td>54.0</td>\n",
              "      <td>60.0</td>\n",
              "      <td>77.0</td>\n",
              "    </tr>\n",
              "    <tr>\n",
              "      <th>RestingBP</th>\n",
              "      <td>918.0</td>\n",
              "      <td>132.396514</td>\n",
              "      <td>18.514154</td>\n",
              "      <td>0.0</td>\n",
              "      <td>120.00</td>\n",
              "      <td>130.0</td>\n",
              "      <td>140.0</td>\n",
              "      <td>200.0</td>\n",
              "    </tr>\n",
              "    <tr>\n",
              "      <th>Cholesterol</th>\n",
              "      <td>918.0</td>\n",
              "      <td>198.799564</td>\n",
              "      <td>109.384145</td>\n",
              "      <td>0.0</td>\n",
              "      <td>173.25</td>\n",
              "      <td>223.0</td>\n",
              "      <td>267.0</td>\n",
              "      <td>603.0</td>\n",
              "    </tr>\n",
              "    <tr>\n",
              "      <th>FastingBS</th>\n",
              "      <td>918.0</td>\n",
              "      <td>0.233115</td>\n",
              "      <td>0.423046</td>\n",
              "      <td>0.0</td>\n",
              "      <td>0.00</td>\n",
              "      <td>0.0</td>\n",
              "      <td>0.0</td>\n",
              "      <td>1.0</td>\n",
              "    </tr>\n",
              "    <tr>\n",
              "      <th>MaxHR</th>\n",
              "      <td>918.0</td>\n",
              "      <td>136.809368</td>\n",
              "      <td>25.460334</td>\n",
              "      <td>60.0</td>\n",
              "      <td>120.00</td>\n",
              "      <td>138.0</td>\n",
              "      <td>156.0</td>\n",
              "      <td>202.0</td>\n",
              "    </tr>\n",
              "    <tr>\n",
              "      <th>Oldpeak</th>\n",
              "      <td>918.0</td>\n",
              "      <td>0.887364</td>\n",
              "      <td>1.066570</td>\n",
              "      <td>-2.6</td>\n",
              "      <td>0.00</td>\n",
              "      <td>0.6</td>\n",
              "      <td>1.5</td>\n",
              "      <td>6.2</td>\n",
              "    </tr>\n",
              "    <tr>\n",
              "      <th>HeartDisease</th>\n",
              "      <td>918.0</td>\n",
              "      <td>0.553377</td>\n",
              "      <td>0.497414</td>\n",
              "      <td>0.0</td>\n",
              "      <td>0.00</td>\n",
              "      <td>1.0</td>\n",
              "      <td>1.0</td>\n",
              "      <td>1.0</td>\n",
              "    </tr>\n",
              "  </tbody>\n",
              "</table>\n",
              "</div>\n",
              "      <button class=\"colab-df-convert\" onclick=\"convertToInteractive('df-f3bd7e83-6986-40ae-8ddf-e959bce580b6')\"\n",
              "              title=\"Convert this dataframe to an interactive table.\"\n",
              "              style=\"display:none;\">\n",
              "        \n",
              "  <svg xmlns=\"http://www.w3.org/2000/svg\" height=\"24px\"viewBox=\"0 0 24 24\"\n",
              "       width=\"24px\">\n",
              "    <path d=\"M0 0h24v24H0V0z\" fill=\"none\"/>\n",
              "    <path d=\"M18.56 5.44l.94 2.06.94-2.06 2.06-.94-2.06-.94-.94-2.06-.94 2.06-2.06.94zm-11 1L8.5 8.5l.94-2.06 2.06-.94-2.06-.94L8.5 2.5l-.94 2.06-2.06.94zm10 10l.94 2.06.94-2.06 2.06-.94-2.06-.94-.94-2.06-.94 2.06-2.06.94z\"/><path d=\"M17.41 7.96l-1.37-1.37c-.4-.4-.92-.59-1.43-.59-.52 0-1.04.2-1.43.59L10.3 9.45l-7.72 7.72c-.78.78-.78 2.05 0 2.83L4 21.41c.39.39.9.59 1.41.59.51 0 1.02-.2 1.41-.59l7.78-7.78 2.81-2.81c.8-.78.8-2.07 0-2.86zM5.41 20L4 18.59l7.72-7.72 1.47 1.35L5.41 20z\"/>\n",
              "  </svg>\n",
              "      </button>\n",
              "      \n",
              "  <style>\n",
              "    .colab-df-container {\n",
              "      display:flex;\n",
              "      flex-wrap:wrap;\n",
              "      gap: 12px;\n",
              "    }\n",
              "\n",
              "    .colab-df-convert {\n",
              "      background-color: #E8F0FE;\n",
              "      border: none;\n",
              "      border-radius: 50%;\n",
              "      cursor: pointer;\n",
              "      display: none;\n",
              "      fill: #1967D2;\n",
              "      height: 32px;\n",
              "      padding: 0 0 0 0;\n",
              "      width: 32px;\n",
              "    }\n",
              "\n",
              "    .colab-df-convert:hover {\n",
              "      background-color: #E2EBFA;\n",
              "      box-shadow: 0px 1px 2px rgba(60, 64, 67, 0.3), 0px 1px 3px 1px rgba(60, 64, 67, 0.15);\n",
              "      fill: #174EA6;\n",
              "    }\n",
              "\n",
              "    [theme=dark] .colab-df-convert {\n",
              "      background-color: #3B4455;\n",
              "      fill: #D2E3FC;\n",
              "    }\n",
              "\n",
              "    [theme=dark] .colab-df-convert:hover {\n",
              "      background-color: #434B5C;\n",
              "      box-shadow: 0px 1px 3px 1px rgba(0, 0, 0, 0.15);\n",
              "      filter: drop-shadow(0px 1px 2px rgba(0, 0, 0, 0.3));\n",
              "      fill: #FFFFFF;\n",
              "    }\n",
              "  </style>\n",
              "\n",
              "      <script>\n",
              "        const buttonEl =\n",
              "          document.querySelector('#df-f3bd7e83-6986-40ae-8ddf-e959bce580b6 button.colab-df-convert');\n",
              "        buttonEl.style.display =\n",
              "          google.colab.kernel.accessAllowed ? 'block' : 'none';\n",
              "\n",
              "        async function convertToInteractive(key) {\n",
              "          const element = document.querySelector('#df-f3bd7e83-6986-40ae-8ddf-e959bce580b6');\n",
              "          const dataTable =\n",
              "            await google.colab.kernel.invokeFunction('convertToInteractive',\n",
              "                                                     [key], {});\n",
              "          if (!dataTable) return;\n",
              "\n",
              "          const docLinkHtml = 'Like what you see? Visit the ' +\n",
              "            '<a target=\"_blank\" href=https://colab.research.google.com/notebooks/data_table.ipynb>data table notebook</a>'\n",
              "            + ' to learn more about interactive tables.';\n",
              "          element.innerHTML = '';\n",
              "          dataTable['output_type'] = 'display_data';\n",
              "          await google.colab.output.renderOutput(dataTable, element);\n",
              "          const docLink = document.createElement('div');\n",
              "          docLink.innerHTML = docLinkHtml;\n",
              "          element.appendChild(docLink);\n",
              "        }\n",
              "      </script>\n",
              "    </div>\n",
              "  </div>\n",
              "  "
            ]
          },
          "metadata": {},
          "execution_count": 38
        }
      ]
    },
    {
      "cell_type": "code",
      "source": [
        "df.info()"
      ],
      "metadata": {
        "colab": {
          "base_uri": "https://localhost:8080/"
        },
        "id": "PlHHdW9A8mXy",
        "outputId": "4b8af082-6971-401c-8aa8-562aeea00831"
      },
      "execution_count": null,
      "outputs": [
        {
          "output_type": "stream",
          "name": "stdout",
          "text": [
            "<class 'pandas.core.frame.DataFrame'>\n",
            "RangeIndex: 918 entries, 0 to 917\n",
            "Data columns (total 12 columns):\n",
            " #   Column          Non-Null Count  Dtype  \n",
            "---  ------          --------------  -----  \n",
            " 0   Age             918 non-null    int64  \n",
            " 1   Sex             918 non-null    object \n",
            " 2   ChestPainType   918 non-null    object \n",
            " 3   RestingBP       918 non-null    int64  \n",
            " 4   Cholesterol     918 non-null    int64  \n",
            " 5   FastingBS       918 non-null    int64  \n",
            " 6   RestingECG      918 non-null    object \n",
            " 7   MaxHR           918 non-null    int64  \n",
            " 8   ExerciseAngina  918 non-null    object \n",
            " 9   Oldpeak         918 non-null    float64\n",
            " 10  ST_Slope        918 non-null    object \n",
            " 11  HeartDisease    918 non-null    int64  \n",
            "dtypes: float64(1), int64(6), object(5)\n",
            "memory usage: 86.2+ KB\n"
          ]
        }
      ]
    },
    {
      "cell_type": "code",
      "source": [
        "df[['Sex', 'ChestPainType', 'RestingECG', 'ExerciseAngina', 'ST_Slope']] = df[['Sex', 'ChestPainType', 'RestingECG', 'ExerciseAngina', 'ST_Slope']].astype('string')"
      ],
      "metadata": {
        "id": "5_gQfR_DFMmy"
      },
      "execution_count": null,
      "outputs": []
    },
    {
      "cell_type": "code",
      "source": [
        "df.info()"
      ],
      "metadata": {
        "colab": {
          "base_uri": "https://localhost:8080/"
        },
        "id": "jMqX5Yj5Hcjg",
        "outputId": "9772c84c-1b15-4af0-cc67-e550d30a5a1b"
      },
      "execution_count": null,
      "outputs": [
        {
          "output_type": "stream",
          "name": "stdout",
          "text": [
            "<class 'pandas.core.frame.DataFrame'>\n",
            "RangeIndex: 918 entries, 0 to 917\n",
            "Data columns (total 12 columns):\n",
            " #   Column          Non-Null Count  Dtype  \n",
            "---  ------          --------------  -----  \n",
            " 0   Age             918 non-null    int64  \n",
            " 1   Sex             918 non-null    string \n",
            " 2   ChestPainType   918 non-null    string \n",
            " 3   RestingBP       918 non-null    int64  \n",
            " 4   Cholesterol     918 non-null    int64  \n",
            " 5   FastingBS       918 non-null    int64  \n",
            " 6   RestingECG      918 non-null    string \n",
            " 7   MaxHR           918 non-null    int64  \n",
            " 8   ExerciseAngina  918 non-null    string \n",
            " 9   Oldpeak         918 non-null    float64\n",
            " 10  ST_Slope        918 non-null    string \n",
            " 11  HeartDisease    918 non-null    int64  \n",
            "dtypes: float64(1), int64(6), string(5)\n",
            "memory usage: 86.2 KB\n"
          ]
        }
      ]
    },
    {
      "cell_type": "code",
      "source": [
        "HeartDisease = df[df['HeartDisease'] == 1].describe().T\n",
        "NoHeartDisease = df[df['HeartDisease'] == 0].describe().T"
      ],
      "metadata": {
        "id": "y3i0Y-or9GGS"
      },
      "execution_count": null,
      "outputs": []
    },
    {
      "cell_type": "code",
      "source": [
        "HeartDisease"
      ],
      "metadata": {
        "colab": {
          "base_uri": "https://localhost:8080/",
          "height": 266
        },
        "id": "CLLGxi2w-GPk",
        "outputId": "43f51ab1-5b41-4091-a500-513edb2e4be7"
      },
      "execution_count": null,
      "outputs": [
        {
          "output_type": "execute_result",
          "data": {
            "text/plain": [
              "              count        mean         std   min    25%    50%     75%    max\n",
              "Age           508.0   55.899606    8.727056  31.0   51.0   57.0   62.00   77.0\n",
              "RestingBP     508.0  134.185039   19.828685   0.0  120.0  132.0  145.00  200.0\n",
              "Cholesterol   508.0  175.940945  126.391398   0.0    0.0  217.0  267.00  603.0\n",
              "FastingBS     508.0    0.334646    0.472332   0.0    0.0    0.0    1.00    1.0\n",
              "MaxHR         508.0  127.655512   23.386923  60.0  112.0  126.0  144.25  195.0\n",
              "Oldpeak       508.0    1.274213    1.151872  -2.6    0.0    1.2    2.00    6.2\n",
              "HeartDisease  508.0    1.000000    0.000000   1.0    1.0    1.0    1.00    1.0"
            ],
            "text/html": [
              "\n",
              "  <div id=\"df-6a45f263-e239-4c2f-88d8-4b25b86fe40a\">\n",
              "    <div class=\"colab-df-container\">\n",
              "      <div>\n",
              "<style scoped>\n",
              "    .dataframe tbody tr th:only-of-type {\n",
              "        vertical-align: middle;\n",
              "    }\n",
              "\n",
              "    .dataframe tbody tr th {\n",
              "        vertical-align: top;\n",
              "    }\n",
              "\n",
              "    .dataframe thead th {\n",
              "        text-align: right;\n",
              "    }\n",
              "</style>\n",
              "<table border=\"1\" class=\"dataframe\">\n",
              "  <thead>\n",
              "    <tr style=\"text-align: right;\">\n",
              "      <th></th>\n",
              "      <th>count</th>\n",
              "      <th>mean</th>\n",
              "      <th>std</th>\n",
              "      <th>min</th>\n",
              "      <th>25%</th>\n",
              "      <th>50%</th>\n",
              "      <th>75%</th>\n",
              "      <th>max</th>\n",
              "    </tr>\n",
              "  </thead>\n",
              "  <tbody>\n",
              "    <tr>\n",
              "      <th>Age</th>\n",
              "      <td>508.0</td>\n",
              "      <td>55.899606</td>\n",
              "      <td>8.727056</td>\n",
              "      <td>31.0</td>\n",
              "      <td>51.0</td>\n",
              "      <td>57.0</td>\n",
              "      <td>62.00</td>\n",
              "      <td>77.0</td>\n",
              "    </tr>\n",
              "    <tr>\n",
              "      <th>RestingBP</th>\n",
              "      <td>508.0</td>\n",
              "      <td>134.185039</td>\n",
              "      <td>19.828685</td>\n",
              "      <td>0.0</td>\n",
              "      <td>120.0</td>\n",
              "      <td>132.0</td>\n",
              "      <td>145.00</td>\n",
              "      <td>200.0</td>\n",
              "    </tr>\n",
              "    <tr>\n",
              "      <th>Cholesterol</th>\n",
              "      <td>508.0</td>\n",
              "      <td>175.940945</td>\n",
              "      <td>126.391398</td>\n",
              "      <td>0.0</td>\n",
              "      <td>0.0</td>\n",
              "      <td>217.0</td>\n",
              "      <td>267.00</td>\n",
              "      <td>603.0</td>\n",
              "    </tr>\n",
              "    <tr>\n",
              "      <th>FastingBS</th>\n",
              "      <td>508.0</td>\n",
              "      <td>0.334646</td>\n",
              "      <td>0.472332</td>\n",
              "      <td>0.0</td>\n",
              "      <td>0.0</td>\n",
              "      <td>0.0</td>\n",
              "      <td>1.00</td>\n",
              "      <td>1.0</td>\n",
              "    </tr>\n",
              "    <tr>\n",
              "      <th>MaxHR</th>\n",
              "      <td>508.0</td>\n",
              "      <td>127.655512</td>\n",
              "      <td>23.386923</td>\n",
              "      <td>60.0</td>\n",
              "      <td>112.0</td>\n",
              "      <td>126.0</td>\n",
              "      <td>144.25</td>\n",
              "      <td>195.0</td>\n",
              "    </tr>\n",
              "    <tr>\n",
              "      <th>Oldpeak</th>\n",
              "      <td>508.0</td>\n",
              "      <td>1.274213</td>\n",
              "      <td>1.151872</td>\n",
              "      <td>-2.6</td>\n",
              "      <td>0.0</td>\n",
              "      <td>1.2</td>\n",
              "      <td>2.00</td>\n",
              "      <td>6.2</td>\n",
              "    </tr>\n",
              "    <tr>\n",
              "      <th>HeartDisease</th>\n",
              "      <td>508.0</td>\n",
              "      <td>1.000000</td>\n",
              "      <td>0.000000</td>\n",
              "      <td>1.0</td>\n",
              "      <td>1.0</td>\n",
              "      <td>1.0</td>\n",
              "      <td>1.00</td>\n",
              "      <td>1.0</td>\n",
              "    </tr>\n",
              "  </tbody>\n",
              "</table>\n",
              "</div>\n",
              "      <button class=\"colab-df-convert\" onclick=\"convertToInteractive('df-6a45f263-e239-4c2f-88d8-4b25b86fe40a')\"\n",
              "              title=\"Convert this dataframe to an interactive table.\"\n",
              "              style=\"display:none;\">\n",
              "        \n",
              "  <svg xmlns=\"http://www.w3.org/2000/svg\" height=\"24px\"viewBox=\"0 0 24 24\"\n",
              "       width=\"24px\">\n",
              "    <path d=\"M0 0h24v24H0V0z\" fill=\"none\"/>\n",
              "    <path d=\"M18.56 5.44l.94 2.06.94-2.06 2.06-.94-2.06-.94-.94-2.06-.94 2.06-2.06.94zm-11 1L8.5 8.5l.94-2.06 2.06-.94-2.06-.94L8.5 2.5l-.94 2.06-2.06.94zm10 10l.94 2.06.94-2.06 2.06-.94-2.06-.94-.94-2.06-.94 2.06-2.06.94z\"/><path d=\"M17.41 7.96l-1.37-1.37c-.4-.4-.92-.59-1.43-.59-.52 0-1.04.2-1.43.59L10.3 9.45l-7.72 7.72c-.78.78-.78 2.05 0 2.83L4 21.41c.39.39.9.59 1.41.59.51 0 1.02-.2 1.41-.59l7.78-7.78 2.81-2.81c.8-.78.8-2.07 0-2.86zM5.41 20L4 18.59l7.72-7.72 1.47 1.35L5.41 20z\"/>\n",
              "  </svg>\n",
              "      </button>\n",
              "      \n",
              "  <style>\n",
              "    .colab-df-container {\n",
              "      display:flex;\n",
              "      flex-wrap:wrap;\n",
              "      gap: 12px;\n",
              "    }\n",
              "\n",
              "    .colab-df-convert {\n",
              "      background-color: #E8F0FE;\n",
              "      border: none;\n",
              "      border-radius: 50%;\n",
              "      cursor: pointer;\n",
              "      display: none;\n",
              "      fill: #1967D2;\n",
              "      height: 32px;\n",
              "      padding: 0 0 0 0;\n",
              "      width: 32px;\n",
              "    }\n",
              "\n",
              "    .colab-df-convert:hover {\n",
              "      background-color: #E2EBFA;\n",
              "      box-shadow: 0px 1px 2px rgba(60, 64, 67, 0.3), 0px 1px 3px 1px rgba(60, 64, 67, 0.15);\n",
              "      fill: #174EA6;\n",
              "    }\n",
              "\n",
              "    [theme=dark] .colab-df-convert {\n",
              "      background-color: #3B4455;\n",
              "      fill: #D2E3FC;\n",
              "    }\n",
              "\n",
              "    [theme=dark] .colab-df-convert:hover {\n",
              "      background-color: #434B5C;\n",
              "      box-shadow: 0px 1px 3px 1px rgba(0, 0, 0, 0.15);\n",
              "      filter: drop-shadow(0px 1px 2px rgba(0, 0, 0, 0.3));\n",
              "      fill: #FFFFFF;\n",
              "    }\n",
              "  </style>\n",
              "\n",
              "      <script>\n",
              "        const buttonEl =\n",
              "          document.querySelector('#df-6a45f263-e239-4c2f-88d8-4b25b86fe40a button.colab-df-convert');\n",
              "        buttonEl.style.display =\n",
              "          google.colab.kernel.accessAllowed ? 'block' : 'none';\n",
              "\n",
              "        async function convertToInteractive(key) {\n",
              "          const element = document.querySelector('#df-6a45f263-e239-4c2f-88d8-4b25b86fe40a');\n",
              "          const dataTable =\n",
              "            await google.colab.kernel.invokeFunction('convertToInteractive',\n",
              "                                                     [key], {});\n",
              "          if (!dataTable) return;\n",
              "\n",
              "          const docLinkHtml = 'Like what you see? Visit the ' +\n",
              "            '<a target=\"_blank\" href=https://colab.research.google.com/notebooks/data_table.ipynb>data table notebook</a>'\n",
              "            + ' to learn more about interactive tables.';\n",
              "          element.innerHTML = '';\n",
              "          dataTable['output_type'] = 'display_data';\n",
              "          await google.colab.output.renderOutput(dataTable, element);\n",
              "          const docLink = document.createElement('div');\n",
              "          docLink.innerHTML = docLinkHtml;\n",
              "          element.appendChild(docLink);\n",
              "        }\n",
              "      </script>\n",
              "    </div>\n",
              "  </div>\n",
              "  "
            ]
          },
          "metadata": {},
          "execution_count": 44
        }
      ]
    },
    {
      "cell_type": "code",
      "source": [
        "NoHeartDisease"
      ],
      "metadata": {
        "colab": {
          "base_uri": "https://localhost:8080/",
          "height": 266
        },
        "id": "5x-wMBuR-ZxL",
        "outputId": "64ed012b-79b5-477d-8d6d-bbd129c27dbb"
      },
      "execution_count": null,
      "outputs": [
        {
          "output_type": "execute_result",
          "data": {
            "text/plain": [
              "              count        mean        std   min     25%    50%     75%    max\n",
              "Age           410.0   50.551220   9.444915  28.0   43.00   51.0   57.00   76.0\n",
              "RestingBP     410.0  130.180488  16.499585  80.0  120.00  130.0  140.00  190.0\n",
              "Cholesterol   410.0  227.121951  74.634659   0.0  197.25  227.0  266.75  564.0\n",
              "FastingBS     410.0    0.107317   0.309894   0.0    0.00    0.0    0.00    1.0\n",
              "MaxHR         410.0  148.151220  23.288067  69.0  134.00  150.0  165.00  202.0\n",
              "Oldpeak       410.0    0.408049   0.699709  -1.1    0.00    0.0    0.60    4.2\n",
              "HeartDisease  410.0    0.000000   0.000000   0.0    0.00    0.0    0.00    0.0"
            ],
            "text/html": [
              "\n",
              "  <div id=\"df-8d26d59a-d1d0-481b-afa5-6f3a42ad617a\">\n",
              "    <div class=\"colab-df-container\">\n",
              "      <div>\n",
              "<style scoped>\n",
              "    .dataframe tbody tr th:only-of-type {\n",
              "        vertical-align: middle;\n",
              "    }\n",
              "\n",
              "    .dataframe tbody tr th {\n",
              "        vertical-align: top;\n",
              "    }\n",
              "\n",
              "    .dataframe thead th {\n",
              "        text-align: right;\n",
              "    }\n",
              "</style>\n",
              "<table border=\"1\" class=\"dataframe\">\n",
              "  <thead>\n",
              "    <tr style=\"text-align: right;\">\n",
              "      <th></th>\n",
              "      <th>count</th>\n",
              "      <th>mean</th>\n",
              "      <th>std</th>\n",
              "      <th>min</th>\n",
              "      <th>25%</th>\n",
              "      <th>50%</th>\n",
              "      <th>75%</th>\n",
              "      <th>max</th>\n",
              "    </tr>\n",
              "  </thead>\n",
              "  <tbody>\n",
              "    <tr>\n",
              "      <th>Age</th>\n",
              "      <td>410.0</td>\n",
              "      <td>50.551220</td>\n",
              "      <td>9.444915</td>\n",
              "      <td>28.0</td>\n",
              "      <td>43.00</td>\n",
              "      <td>51.0</td>\n",
              "      <td>57.00</td>\n",
              "      <td>76.0</td>\n",
              "    </tr>\n",
              "    <tr>\n",
              "      <th>RestingBP</th>\n",
              "      <td>410.0</td>\n",
              "      <td>130.180488</td>\n",
              "      <td>16.499585</td>\n",
              "      <td>80.0</td>\n",
              "      <td>120.00</td>\n",
              "      <td>130.0</td>\n",
              "      <td>140.00</td>\n",
              "      <td>190.0</td>\n",
              "    </tr>\n",
              "    <tr>\n",
              "      <th>Cholesterol</th>\n",
              "      <td>410.0</td>\n",
              "      <td>227.121951</td>\n",
              "      <td>74.634659</td>\n",
              "      <td>0.0</td>\n",
              "      <td>197.25</td>\n",
              "      <td>227.0</td>\n",
              "      <td>266.75</td>\n",
              "      <td>564.0</td>\n",
              "    </tr>\n",
              "    <tr>\n",
              "      <th>FastingBS</th>\n",
              "      <td>410.0</td>\n",
              "      <td>0.107317</td>\n",
              "      <td>0.309894</td>\n",
              "      <td>0.0</td>\n",
              "      <td>0.00</td>\n",
              "      <td>0.0</td>\n",
              "      <td>0.00</td>\n",
              "      <td>1.0</td>\n",
              "    </tr>\n",
              "    <tr>\n",
              "      <th>MaxHR</th>\n",
              "      <td>410.0</td>\n",
              "      <td>148.151220</td>\n",
              "      <td>23.288067</td>\n",
              "      <td>69.0</td>\n",
              "      <td>134.00</td>\n",
              "      <td>150.0</td>\n",
              "      <td>165.00</td>\n",
              "      <td>202.0</td>\n",
              "    </tr>\n",
              "    <tr>\n",
              "      <th>Oldpeak</th>\n",
              "      <td>410.0</td>\n",
              "      <td>0.408049</td>\n",
              "      <td>0.699709</td>\n",
              "      <td>-1.1</td>\n",
              "      <td>0.00</td>\n",
              "      <td>0.0</td>\n",
              "      <td>0.60</td>\n",
              "      <td>4.2</td>\n",
              "    </tr>\n",
              "    <tr>\n",
              "      <th>HeartDisease</th>\n",
              "      <td>410.0</td>\n",
              "      <td>0.000000</td>\n",
              "      <td>0.000000</td>\n",
              "      <td>0.0</td>\n",
              "      <td>0.00</td>\n",
              "      <td>0.0</td>\n",
              "      <td>0.00</td>\n",
              "      <td>0.0</td>\n",
              "    </tr>\n",
              "  </tbody>\n",
              "</table>\n",
              "</div>\n",
              "      <button class=\"colab-df-convert\" onclick=\"convertToInteractive('df-8d26d59a-d1d0-481b-afa5-6f3a42ad617a')\"\n",
              "              title=\"Convert this dataframe to an interactive table.\"\n",
              "              style=\"display:none;\">\n",
              "        \n",
              "  <svg xmlns=\"http://www.w3.org/2000/svg\" height=\"24px\"viewBox=\"0 0 24 24\"\n",
              "       width=\"24px\">\n",
              "    <path d=\"M0 0h24v24H0V0z\" fill=\"none\"/>\n",
              "    <path d=\"M18.56 5.44l.94 2.06.94-2.06 2.06-.94-2.06-.94-.94-2.06-.94 2.06-2.06.94zm-11 1L8.5 8.5l.94-2.06 2.06-.94-2.06-.94L8.5 2.5l-.94 2.06-2.06.94zm10 10l.94 2.06.94-2.06 2.06-.94-2.06-.94-.94-2.06-.94 2.06-2.06.94z\"/><path d=\"M17.41 7.96l-1.37-1.37c-.4-.4-.92-.59-1.43-.59-.52 0-1.04.2-1.43.59L10.3 9.45l-7.72 7.72c-.78.78-.78 2.05 0 2.83L4 21.41c.39.39.9.59 1.41.59.51 0 1.02-.2 1.41-.59l7.78-7.78 2.81-2.81c.8-.78.8-2.07 0-2.86zM5.41 20L4 18.59l7.72-7.72 1.47 1.35L5.41 20z\"/>\n",
              "  </svg>\n",
              "      </button>\n",
              "      \n",
              "  <style>\n",
              "    .colab-df-container {\n",
              "      display:flex;\n",
              "      flex-wrap:wrap;\n",
              "      gap: 12px;\n",
              "    }\n",
              "\n",
              "    .colab-df-convert {\n",
              "      background-color: #E8F0FE;\n",
              "      border: none;\n",
              "      border-radius: 50%;\n",
              "      cursor: pointer;\n",
              "      display: none;\n",
              "      fill: #1967D2;\n",
              "      height: 32px;\n",
              "      padding: 0 0 0 0;\n",
              "      width: 32px;\n",
              "    }\n",
              "\n",
              "    .colab-df-convert:hover {\n",
              "      background-color: #E2EBFA;\n",
              "      box-shadow: 0px 1px 2px rgba(60, 64, 67, 0.3), 0px 1px 3px 1px rgba(60, 64, 67, 0.15);\n",
              "      fill: #174EA6;\n",
              "    }\n",
              "\n",
              "    [theme=dark] .colab-df-convert {\n",
              "      background-color: #3B4455;\n",
              "      fill: #D2E3FC;\n",
              "    }\n",
              "\n",
              "    [theme=dark] .colab-df-convert:hover {\n",
              "      background-color: #434B5C;\n",
              "      box-shadow: 0px 1px 3px 1px rgba(0, 0, 0, 0.15);\n",
              "      filter: drop-shadow(0px 1px 2px rgba(0, 0, 0, 0.3));\n",
              "      fill: #FFFFFF;\n",
              "    }\n",
              "  </style>\n",
              "\n",
              "      <script>\n",
              "        const buttonEl =\n",
              "          document.querySelector('#df-8d26d59a-d1d0-481b-afa5-6f3a42ad617a button.colab-df-convert');\n",
              "        buttonEl.style.display =\n",
              "          google.colab.kernel.accessAllowed ? 'block' : 'none';\n",
              "\n",
              "        async function convertToInteractive(key) {\n",
              "          const element = document.querySelector('#df-8d26d59a-d1d0-481b-afa5-6f3a42ad617a');\n",
              "          const dataTable =\n",
              "            await google.colab.kernel.invokeFunction('convertToInteractive',\n",
              "                                                     [key], {});\n",
              "          if (!dataTable) return;\n",
              "\n",
              "          const docLinkHtml = 'Like what you see? Visit the ' +\n",
              "            '<a target=\"_blank\" href=https://colab.research.google.com/notebooks/data_table.ipynb>data table notebook</a>'\n",
              "            + ' to learn more about interactive tables.';\n",
              "          element.innerHTML = '';\n",
              "          dataTable['output_type'] = 'display_data';\n",
              "          await google.colab.output.renderOutput(dataTable, element);\n",
              "          const docLink = document.createElement('div');\n",
              "          docLink.innerHTML = docLinkHtml;\n",
              "          element.appendChild(docLink);\n",
              "        }\n",
              "      </script>\n",
              "    </div>\n",
              "  </div>\n",
              "  "
            ]
          },
          "metadata": {},
          "execution_count": 45
        }
      ]
    },
    {
      "cell_type": "code",
      "source": [
        "heart_disease_chest_pain = df[df['HeartDisease']==1]['ChestPainType'].value_counts()\n",
        "no_heart_disease_chest_pain = df[df['HeartDisease']==0]['ChestPainType'].value_counts()\n",
        "\n",
        "print(\"Osoby z chorobą serca:\\n\", heart_disease_chest_pain)\n",
        "print(\"Osoby bez choroby serca:\\n\", no_heart_disease_chest_pain)"
      ],
      "metadata": {
        "colab": {
          "base_uri": "https://localhost:8080/"
        },
        "id": "UKnukz2KL6Gb",
        "outputId": "ddedfd7b-f9d7-4f74-8b52-5df3b1c0ebab"
      },
      "execution_count": null,
      "outputs": [
        {
          "output_type": "stream",
          "name": "stdout",
          "text": [
            "Osoby z chorobą serca:\n",
            " ASY    392\n",
            "NAP     72\n",
            "ATA     24\n",
            "TA      20\n",
            "Name: ChestPainType, dtype: Int64\n",
            "Osoby bez choroby serca:\n",
            " ATA    149\n",
            "NAP    131\n",
            "ASY    104\n",
            "TA      26\n",
            "Name: ChestPainType, dtype: Int64\n"
          ]
        }
      ]
    },
    {
      "cell_type": "code",
      "source": [
        "heart_disease_sex = df[df['HeartDisease']==1]['Sex'].value_counts()\n",
        "no_heart_disease_sex = df[df['HeartDisease']==0]['Sex'].value_counts()\n",
        "\n",
        "print(\"Osoby z chorobą serca:\\n\", heart_disease_sex)\n",
        "print(\"Osoby bez choroby serca:\\n\", no_heart_disease_sex)"
      ],
      "metadata": {
        "colab": {
          "base_uri": "https://localhost:8080/"
        },
        "id": "MB2-O8qHOhfH",
        "outputId": "8a64da3f-9ff8-4603-908c-d0bc8d499837"
      },
      "execution_count": null,
      "outputs": [
        {
          "output_type": "stream",
          "name": "stdout",
          "text": [
            "Osoby z chorobą serca:\n",
            " M    458\n",
            "F     50\n",
            "Name: Sex, dtype: Int64\n",
            "Osoby bez choroby serca:\n",
            " M    267\n",
            "F    143\n",
            "Name: Sex, dtype: Int64\n"
          ]
        }
      ]
    },
    {
      "cell_type": "code",
      "source": [
        "heart_disease_RestingECG = df[df['HeartDisease']==1]['RestingECG'].value_counts()\n",
        "no_heart_disease_RestingECG = df[df['HeartDisease']==0]['RestingECG'].value_counts()\n",
        "\n",
        "print(\"Osoby z chorobą serca:\\n\", heart_disease_RestingECG)\n",
        "print(\"Osoby bez choroby serca:\\n\", no_heart_disease_RestingECG)"
      ],
      "metadata": {
        "colab": {
          "base_uri": "https://localhost:8080/"
        },
        "id": "oNK4HaXPPTtd",
        "outputId": "90177a2b-ebed-4df4-8497-59362075041b"
      },
      "execution_count": null,
      "outputs": [
        {
          "output_type": "stream",
          "name": "stdout",
          "text": [
            "Osoby z chorobą serca:\n",
            " Normal    285\n",
            "ST        117\n",
            "LVH       106\n",
            "Name: RestingECG, dtype: Int64\n",
            "Osoby bez choroby serca:\n",
            " Normal    267\n",
            "LVH        82\n",
            "ST         61\n",
            "Name: RestingECG, dtype: Int64\n"
          ]
        }
      ]
    },
    {
      "cell_type": "code",
      "source": [
        "heart_disease_ExerciseAngina = df[df['HeartDisease']==1]['ExerciseAngina'].value_counts()\n",
        "no_heart_disease_ExerciseAngina = df[df['HeartDisease']==0]['ExerciseAngina'].value_counts()\n",
        "\n",
        "print(\"Osoby z chorobą serca:\\n\", heart_disease_ExerciseAngina)\n",
        "print(\"Osoby bez choroby serca:\\n\", no_heart_disease_ExerciseAngina)"
      ],
      "metadata": {
        "colab": {
          "base_uri": "https://localhost:8080/"
        },
        "id": "4CdEq1dDQGuF",
        "outputId": "ca98e9bb-fc7f-4dc8-9e9f-f4630489ef29"
      },
      "execution_count": null,
      "outputs": [
        {
          "output_type": "stream",
          "name": "stdout",
          "text": [
            "Osoby z chorobą serca:\n",
            " Y    316\n",
            "N    192\n",
            "Name: ExerciseAngina, dtype: Int64\n",
            "Osoby bez choroby serca:\n",
            " N    355\n",
            "Y     55\n",
            "Name: ExerciseAngina, dtype: Int64\n"
          ]
        }
      ]
    },
    {
      "cell_type": "code",
      "source": [
        "heart_disease_ST_Slope = df[df['HeartDisease']==1]['ST_Slope'].value_counts()\n",
        "no_heart_disease_ST_Slope = df[df['HeartDisease']==0]['ST_Slope'].value_counts()\n",
        "\n",
        "print(\"Osoby z chorobą serca:\\n\", heart_disease_ST_Slope)\n",
        "print(\"Osoby bez choroby serca:\\n\", no_heart_disease_ST_Slope)"
      ],
      "metadata": {
        "colab": {
          "base_uri": "https://localhost:8080/"
        },
        "id": "yYr1IsBvQ3WU",
        "outputId": "417155eb-2161-43cf-c5ce-68bdc8da6775"
      },
      "execution_count": null,
      "outputs": [
        {
          "output_type": "stream",
          "name": "stdout",
          "text": [
            "Osoby z chorobą serca:\n",
            " Flat    381\n",
            "Up       78\n",
            "Down     49\n",
            "Name: ST_Slope, dtype: Int64\n",
            "Osoby bez choroby serca:\n",
            " Up      317\n",
            "Flat     79\n",
            "Down     14\n",
            "Name: ST_Slope, dtype: Int64\n"
          ]
        }
      ]
    },
    {
      "cell_type": "code",
      "source": [
        "print(df.columns)"
      ],
      "metadata": {
        "colab": {
          "base_uri": "https://localhost:8080/"
        },
        "id": "y68knjhRsDWj",
        "outputId": "7a74274f-9e42-4d82-af11-63a874d9cbbf"
      },
      "execution_count": null,
      "outputs": [
        {
          "output_type": "stream",
          "name": "stdout",
          "text": [
            "Index(['Age', 'Sex', 'ChestPainType', 'RestingBP', 'Cholesterol', 'FastingBS',\n",
            "       'RestingECG', 'MaxHR', 'ExerciseAngina', 'Oldpeak', 'ST_Slope',\n",
            "       'HeartDisease'],\n",
            "      dtype='object')\n"
          ]
        }
      ]
    },
    {
      "cell_type": "markdown",
      "source": [
        "# Wizualizacja danych"
      ],
      "metadata": {
        "id": "bGC9LOypm0Bg"
      }
    },
    {
      "cell_type": "code",
      "source": [
        "import seaborn as sns\n",
        "import matplotlib.pyplot as plt\n",
        "\n",
        "# Następnie podziel DataFrame na podzbiory HeartDisease i NoHeartDisease\n",
        "HeartDisease = df[df['HeartDisease'] == 1]\n",
        "NoHeartDisease = df[df['HeartDisease'] == 0]\n",
        "\n",
        "# Ustaw styl Seaborn\n",
        "sns.set(style=\"whitegrid\")\n",
        "\n",
        "# Lista zmiennych liczbowych\n",
        "numerical_vars = [\"Age\", \"RestingBP\", \"Cholesterol\", \"FastingBS\", \"MaxHR\", \"Oldpeak\"]\n",
        "\n",
        "# Lista zmiennych kategorycznych\n",
        "categorical_vars = [\"Sex\", \"ChestPainType\", \"RestingECG\", \"ExerciseAngina\", \"ST_Slope\"]\n",
        "\n",
        "# Wizualizuj zmienne liczbowe\n",
        "for var in numerical_vars:\n",
        "    fig, axs = plt.subplots(1, 2, figsize=(10, 5), sharey=True)\n",
        "    sns.histplot(NoHeartDisease[var], kde=True, ax=axs[0])\n",
        "    axs[0].set_title(f\"Rozkład {var} dla zdrowych\")\n",
        "    sns.histplot(HeartDisease[var], kde=True, ax=axs[1])\n",
        "    axs[1].set_title(f\"Rozkład {var} dla chorych\")\n",
        "    plt.show()\n",
        "\n",
        "# Wizualizuj zmienne kategoryczne\n",
        "for var in categorical_vars:\n",
        "    fig, axs = plt.subplots(1, 2, figsize=(10, 5), sharey=True)\n",
        "    sns.countplot(x=var, data=NoHeartDisease, ax=axs[0])\n",
        "    axs[0].set_title(f\"Wykres słupkowy {var} dla zdrowych\")\n",
        "    sns.countplot(x=var, data=HeartDisease, ax=axs[1])\n",
        "    axs[1].set_title(f\"Wykres słupkowy {var} dla chorych\")\n",
        "    plt.show()"
      ],
      "metadata": {
        "colab": {
          "base_uri": "https://localhost:8080/",
          "height": 1000
        },
        "id": "hbfjQHiLl1IA",
        "outputId": "507d19ad-a226-4d10-f160-f352350bb147"
      },
      "execution_count": null,
      "outputs": [
        {
          "output_type": "display_data",
          "data": {
            "text/plain": [
              "<Figure size 1000x500 with 2 Axes>"
            ],
            "image/png": "[encoded data removed]"
          },
          "metadata": {}
        },
        {
          "output_type": "display_data",
          "data": {
            "text/plain": [
              "<Figure size 1000x500 with 2 Axes>"
            ],
            "image/png": "[encoded data removed]"
          },
          "metadata": {}
        },
        {
          "output_type": "display_data",
          "data": {
            "text/plain": [
              "<Figure size 1000x500 with 2 Axes>"
            ],
            "image/png": "[encoded data removed]"
          },
          "metadata": {}
        },
        {
          "output_type": "display_data",
          "data": {
            "text/plain": [
              "<Figure size 1000x500 with 2 Axes>"
            ],
            "image/png": "[encoded data removed]"
          },
          "metadata": {}
        },
        {
          "output_type": "display_data",
          "data": {
            "text/plain": [
              "<Figure size 1000x500 with 2 Axes>"
            ],
            "image/png": "[encoded data removed]"
          },
          "metadata": {}
        },
        {
          "output_type": "display_data",
          "data": {
            "text/plain": [
              "<Figure size 1000x500 with 2 Axes>"
            ],
            "image/png": "[encoded data removed]"
          },
          "metadata": {}
        },
        {
          "output_type": "display_data",
          "data": {
            "text/plain": [
              "<Figure size 1000x500 with 2 Axes>"
            ],
            "image/png": "[encoded data removed]"
          },
          "metadata": {}
        },
        {
          "output_type": "display_data",
          "data": {
            "text/plain": [
              "<Figure size 1000x500 with 2 Axes>"
            ],
            "image/png": "[encoded data removed]"
          },
          "metadata": {}
        },
        {
          "output_type": "display_data",
          "data": {
            "text/plain": [
              "<Figure size 1000x500 with 2 Axes>"
            ],
            "image/png": "[encoded data removed]"
          },
          "metadata": {}
        },
        {
          "output_type": "display_data",
          "data": {
            "text/plain": [
              "<Figure size 1000x500 with 2 Axes>"
            ],
            "image/png": "[encoded data removed]"
          },
          "metadata": {}
        },
        {
          "output_type": "display_data",
          "data": {
            "text/plain": [
              "<Figure size 1000x500 with 2 Axes>"
            ],
            "image/png": "[encoded data removed]"
          },
          "metadata": {}
        }
      ]
    },
    {
      "cell_type": "markdown",
      "source": [
        "# Macierz korelacji"
      ],
      "metadata": {
        "id": "QnyNMzRZmu1q"
      }
    },
    {
      "cell_type": "code",
      "source": [
        "import numpy as np\n",
        "\n",
        "# Oblicz macierz korelacji\n",
        "corr_matrix = df.corr()\n",
        "\n",
        "# Ustaw styl Seaborn\n",
        "sns.set(style=\"white\")\n",
        "\n",
        "# Utwórz maskę, aby ukryć górną połowę macierzy korelacji (ponieważ jest lustrzanym odbiciem dolnej połowy)\n",
        "mask = np.triu(np.ones_like(corr_matrix, dtype=bool))\n",
        "\n",
        "# Ustaw rozmiar mapy cieplnej\n",
        "plt.figure(figsize=(12, 9))\n",
        "\n",
        "# Utwórz mapę cieplną korzystając z Seaborn\n",
        "heatmap = sns.heatmap(corr_matrix, mask=mask, annot=True, cmap=\"coolwarm\", linewidths=1, cbar_kws={\"shrink\": .8})\n",
        "\n",
        "# Dodaj tytuł\n",
        "plt.title(\"Macierz Korelacji\", fontsize=20)\n",
        "\n",
        "# Ustaw czcionkę etykiet osi\n",
        "heatmap.tick_params(axis='both', which='major', labelsize=12)\n",
        "\n",
        "# Wyświetl mapę cieplną\n",
        "plt.show()"
      ],
      "metadata": {
        "colab": {
          "base_uri": "https://localhost:8080/",
          "height": 845
        },
        "id": "kWUddZMHXDbc",
        "outputId": "7596666e-d378-460f-94bd-49f74cecc9ea"
      },
      "execution_count": null,
      "outputs": [
        {
          "output_type": "stream",
          "name": "stderr",
          "text": [
            "<ipython-input-53-1d411700e117>:4: FutureWarning: The default value of numeric_only in DataFrame.corr is deprecated. In a future version, it will default to False. Select only valid columns or specify the value of numeric_only to silence this warning.\n",
            "  corr_matrix = df.corr()\n"
          ]
        },
        {
          "output_type": "display_data",
          "data": {
            "text/plain": [
              "<Figure size 1200x900 with 2 Axes>"
            ],
            "image/png": "[encoded data removed]"
          },
          "metadata": {}
        }
      ]
    },
    {
      "cell_type": "code",
      "source": [
        "print(\"Macierz Korelacji:\")\n",
        "print(corr_matrix)"
      ],
      "metadata": {
        "colab": {
          "base_uri": "https://localhost:8080/"
        },
        "id": "rFlnA75zaa9k",
        "outputId": "69344dd3-2fa7-4131-f636-900edf11adbb"
      },
      "execution_count": null,
      "outputs": [
        {
          "output_type": "stream",
          "name": "stdout",
          "text": [
            "Macierz Korelacji:\n",
            "                   Age  RestingBP  Cholesterol  FastingBS     MaxHR   Oldpeak  \\\n",
            "Age           1.000000   0.254399    -0.095282   0.198039 -0.382045  0.258612   \n",
            "RestingBP     0.254399   1.000000     0.100893   0.070193 -0.112135  0.164803   \n",
            "Cholesterol  -0.095282   0.100893     1.000000  -0.260974  0.235792  0.050148   \n",
            "FastingBS     0.198039   0.070193    -0.260974   1.000000 -0.131438  0.052698   \n",
            "MaxHR        -0.382045  -0.112135     0.235792  -0.131438  1.000000 -0.160691   \n",
            "Oldpeak       0.258612   0.164803     0.050148   0.052698 -0.160691  1.000000   \n",
            "HeartDisease  0.282039   0.107589    -0.232741   0.267291 -0.400421  0.403951   \n",
            "\n",
            "              HeartDisease  \n",
            "Age               0.282039  \n",
            "RestingBP         0.107589  \n",
            "Cholesterol      -0.232741  \n",
            "FastingBS         0.267291  \n",
            "MaxHR            -0.400421  \n",
            "Oldpeak           0.403951  \n",
            "HeartDisease      1.000000  \n"
          ]
        }
      ]
    },
    {
      "cell_type": "markdown",
      "source": [
        "#Przetwarzanie wstępne danych\n",
        "\n"
      ],
      "metadata": {
        "id": "TRqvsutLtfSB"
      }
    },
    {
      "cell_type": "code",
      "source": [
        "# Zamień wartości tekstowe na wartości liczbowe\n",
        "df['Sex'] = df['Sex'].map({'M': 1, 'F': 0})\n",
        "df['ChestPainType'] = df['ChestPainType'].map({'TA': 1, 'ATA': 2, 'NAP': 3, 'ASY': 4})\n",
        "df['RestingECG'] = df['RestingECG'].map({'Normal': 0, 'ST': 1, 'LVH': 2})\n",
        "df['ExerciseAngina'] = df['ExerciseAngina'].map({'N': 0, 'Y': 1})\n",
        "df['ST_Slope'] = df['ST_Slope'].map({'Up': 1, 'Flat': 2, 'Down': 3})\n",
        "\n",
        "# Zamień wartości przedziałowe na średnią z przedziału\n",
        "df['Cholesterol'] = df['Cholesterol'].replace('230-240', 235)\n",
        "\n",
        "# Konwertuj kolumnę \"Cholesterol\" na wartości liczbowe\n",
        "df['Cholesterol'] = df['Cholesterol'].astype(float)\n",
        "\n",
        "# Przetworzenie zmiennych kategorycznych\n",
        "df = pd.get_dummies(df, columns=[\"Sex\", \"ChestPainType\", \"RestingECG\", \"ExerciseAngina\", \"ST_Slope\"], drop_first=True)\n",
        "\n",
        "# Definiowanie cech (X) i etykiet (y)\n",
        "X = df.drop(\"HeartDisease\", axis=1)\n",
        "y = df[\"HeartDisease\"]"
      ],
      "metadata": {
        "id": "qcpRkCKRtjdT"
      },
      "execution_count": null,
      "outputs": []
    },
    {
      "cell_type": "markdown",
      "source": [
        "#Regresja logistyczna"
      ],
      "metadata": {
        "id": "ZiQcCPBUs6cq"
      }
    },
    {
      "cell_type": "code",
      "source": [
        "from sklearn.model_selection import train_test_split\n",
        "from sklearn.linear_model import LogisticRegression\n",
        "from sklearn.metrics import accuracy_score, confusion_matrix, classification_report\n",
        "\n",
        "# Podział danych na zbiory treningowy i testowy\n",
        "X_train, X_test, y_train, y_test = train_test_split(X, y, test_size=0.2, random_state=42)\n",
        "\n",
        "# Tworzenie modelu regresji logistycznej\n",
        "log_reg = LogisticRegression(solver='liblinear', max_iter=1000)\n",
        "\n",
        "# Trenowanie modelu na danych treningowych\n",
        "log_reg.fit(X_train, y_train)\n",
        "\n",
        "# Przewidywanie na danych testowych\n",
        "y_pred = log_reg.predict(X_test)\n",
        "\n",
        "# Obliczenie dokładności modelu\n",
        "accuracy = accuracy_score(y_test, y_pred)\n",
        "print(f\"Dokładność modelu regresji logistycznej: {accuracy:.2f}\")\n",
        "\n",
        "# Macierz pomyłek\n",
        "conf_matrix_log_reg = confusion_matrix(y_test, y_pred)\n",
        "print(\"Macierz pomyłek:\")\n",
        "print(conf_matrix_log_reg)\n",
        "\n",
        "# Raport klasyfikacji\n",
        "class_report_log_reg = classification_report(y_test, y_pred)\n",
        "print(\"Raport klasyfikacji:\")\n",
        "print(class_report_log_reg)"
      ],
      "metadata": {
        "colab": {
          "base_uri": "https://localhost:8080/"
        },
        "id": "3FNTmeFqmt-j",
        "outputId": "2c38b027-966e-408d-de93-14cec341349d"
      },
      "execution_count": null,
      "outputs": [
        {
          "output_type": "stream",
          "name": "stdout",
          "text": [
            "Dokładność modelu regresji logistycznej: 0.86\n",
            "Macierz pomyłek:\n",
            "[[66 11]\n",
            " [15 92]]\n",
            "Raport klasyfikacji:\n",
            "              precision    recall  f1-score   support\n",
            "\n",
            "           0       0.81      0.86      0.84        77\n",
            "           1       0.89      0.86      0.88       107\n",
            "\n",
            "    accuracy                           0.86       184\n",
            "   macro avg       0.85      0.86      0.86       184\n",
            "weighted avg       0.86      0.86      0.86       184\n",
            "\n"
          ]
        }
      ]
    },
    {
      "cell_type": "markdown",
      "source": [
        "#Drzewa decyzyjne"
      ],
      "metadata": {
        "id": "mnVQD7oqtHDU"
      }
    },
    {
      "cell_type": "code",
      "source": [
        "from sklearn.tree import DecisionTreeClassifier\n",
        "\n",
        "# Podział danych na zbiory treningowy i testowy\n",
        "X_train, X_test, y_train, y_test = train_test_split(X, y, test_size=0.2, random_state=42)\n",
        "\n",
        "# Tworzenie modelu drzewa decyzyjnego\n",
        "decision_tree = DecisionTreeClassifier(random_state=42)\n",
        "\n",
        "# Trenowanie modelu na danych treningowych\n",
        "decision_tree.fit(X_train, y_train)\n",
        "\n",
        "# Przewidywanie na danych testowych\n",
        "y_pred = decision_tree.predict(X_test)\n",
        "\n",
        "# Obliczenie dokładności modelu\n",
        "accuracy = accuracy_score(y_test, y_pred)\n",
        "print(f\"Dokładność modelu drzewa decyzyjnego: {accuracy:.2f}\")\n",
        "\n",
        "# Macierz pomyłek\n",
        "conf_matrix_decision_trees = confusion_matrix(y_test, y_pred)\n",
        "print(\"Macierz pomyłek:\")\n",
        "print(conf_matrix_decision_trees)\n",
        "\n",
        "# Raport klasyfikacji\n",
        "class_report_decision_trees = classification_report(y_test, y_pred)\n",
        "print(\"Raport klasyfikacji:\")\n",
        "print(class_report_decision_trees)"
      ],
      "metadata": {
        "colab": {
          "base_uri": "https://localhost:8080/"
        },
        "id": "c_CCVDO7tEP5",
        "outputId": "3fdab75a-43fc-4302-b9ac-ea4ea5567516"
      },
      "execution_count": null,
      "outputs": [
        {
          "output_type": "stream",
          "name": "stdout",
          "text": [
            "Dokładność modelu drzewa decyzyjnego: 0.80\n",
            "Macierz pomyłek:\n",
            "[[64 13]\n",
            " [24 83]]\n",
            "Raport klasyfikacji:\n",
            "              precision    recall  f1-score   support\n",
            "\n",
            "           0       0.73      0.83      0.78        77\n",
            "           1       0.86      0.78      0.82       107\n",
            "\n",
            "    accuracy                           0.80       184\n",
            "   macro avg       0.80      0.80      0.80       184\n",
            "weighted avg       0.81      0.80      0.80       184\n",
            "\n"
          ]
        }
      ]
    },
    {
      "cell_type": "markdown",
      "source": [
        "# Naiwny klasyfikator bayesowski"
      ],
      "metadata": {
        "id": "iocqR-ie3Vs2"
      }
    },
    {
      "cell_type": "code",
      "source": [
        "from sklearn.model_selection import train_test_split\n",
        "from sklearn.naive_bayes import GaussianNB\n",
        "from sklearn.metrics import accuracy_score, confusion_matrix, classification_report\n",
        "\n",
        "# Podział danych na zbiory treningowy i testowy\n",
        "X_train, X_test, y_train, y_test = train_test_split(X, y, test_size=0.2, random_state=42)\n",
        "\n",
        "# Tworzenie modelu naiwnego klasyfikatora bayesowskiego\n",
        "naive_bayes = GaussianNB()\n",
        "\n",
        "# Trenowanie modelu na danych treningowych\n",
        "naive_bayes.fit(X_train, y_train)\n",
        "\n",
        "# Przewidywanie na danych testowych\n",
        "y_pred = naive_bayes.predict(X_test)\n",
        "\n",
        "# Obliczenie dokładności modelu\n",
        "accuracy = accuracy_score(y_test, y_pred)\n",
        "print(f\"Dokładność modelu naiwnego klasyfikatora bayesowskiego: {accuracy:.2f}\")\n",
        "\n",
        "# Macierz pomyłek\n",
        "conf_matrix_naive_bayes = confusion_matrix(y_test, y_pred)\n",
        "print(\"Macierz pomyłek:\")\n",
        "print(conf_matrix_naive_bayes)\n",
        "\n",
        "# Raport klasyfikacji\n",
        "class_report_naive_bayes = classification_report(y_test, y_pred)\n",
        "print(\"Raport klasyfikacji:\")\n",
        "print(class_report_naive_bayes)"
      ],
      "metadata": {
        "colab": {
          "base_uri": "https://localhost:8080/"
        },
        "id": "6qhA8FmaiPXt",
        "outputId": "cdd6e9a5-3167-4426-80b0-1088684a2275"
      },
      "execution_count": null,
      "outputs": [
        {
          "output_type": "stream",
          "name": "stdout",
          "text": [
            "Dokładność modelu naiwnego klasyfikatora bayesowskiego: 0.84\n",
            "Macierz pomyłek:\n",
            "[[65 12]\n",
            " [17 90]]\n",
            "Raport klasyfikacji:\n",
            "              precision    recall  f1-score   support\n",
            "\n",
            "           0       0.79      0.84      0.82        77\n",
            "           1       0.88      0.84      0.86       107\n",
            "\n",
            "    accuracy                           0.84       184\n",
            "   macro avg       0.84      0.84      0.84       184\n",
            "weighted avg       0.84      0.84      0.84       184\n",
            "\n"
          ]
        }
      ]
    },
    {
      "cell_type": "markdown",
      "source": [
        "#SVM (Support Vector Machine)"
      ],
      "metadata": {
        "id": "kXVpai5WuFOq"
      }
    },
    {
      "cell_type": "code",
      "source": [
        "from sklearn.svm import SVC\n",
        "\n",
        "# Podział danych na zbiory treningowy i testowy\n",
        "X_train, X_test, y_train, y_test = train_test_split(X, y, test_size=0.2, random_state=42)\n",
        "\n",
        "# Tworzenie modelu SVM\n",
        "svm_model = SVC(kernel='linear', random_state=42)\n",
        "\n",
        "# Trenowanie modelu na danych treningowych\n",
        "svm_model.fit(X_train, y_train)\n",
        "\n",
        "# Przewidywanie na danych testowych\n",
        "y_pred = svm_model.predict(X_test)\n",
        "\n",
        "# Obliczenie dokładności modelu\n",
        "accuracy = accuracy_score(y_test, y_pred)\n",
        "print(f\"Dokładność modelu SVM: {accuracy:.2f}\")\n",
        "\n",
        "# Macierz pomyłek\n",
        "conf_matrix_svc = confusion_matrix(y_test, y_pred)\n",
        "print(\"Macierz pomyłek:\")\n",
        "print(conf_matrix_svc)\n",
        "\n",
        "# Raport klasyfikacji\n",
        "class_report_svc = classification_report(y_test, y_pred)\n",
        "print(\"Raport klasyfikacji:\")\n",
        "print(class_report_svc)"
      ],
      "metadata": {
        "colab": {
          "base_uri": "https://localhost:8080/"
        },
        "id": "5qS6KF2quFEo",
        "outputId": "7be34aac-601d-4ca4-e75e-85a62b0c6038"
      },
      "execution_count": null,
      "outputs": [
        {
          "output_type": "stream",
          "name": "stdout",
          "text": [
            "Dokładność modelu SVM: 0.86\n",
            "Macierz pomyłek:\n",
            "[[67 10]\n",
            " [16 91]]\n",
            "Raport klasyfikacji:\n",
            "              precision    recall  f1-score   support\n",
            "\n",
            "           0       0.81      0.87      0.84        77\n",
            "           1       0.90      0.85      0.88       107\n",
            "\n",
            "    accuracy                           0.86       184\n",
            "   macro avg       0.85      0.86      0.86       184\n",
            "weighted avg       0.86      0.86      0.86       184\n",
            "\n"
          ]
        }
      ]
    },
    {
      "cell_type": "markdown",
      "source": [
        "#XGBoost"
      ],
      "metadata": {
        "id": "9FXFcPzIygNv"
      }
    },
    {
      "cell_type": "code",
      "source": [
        "import xgboost as xgb\n",
        "from sklearn.model_selection import train_test_split\n",
        "from sklearn.metrics import accuracy_score, confusion_matrix, classification_report\n",
        "\n",
        "#Podział danych na zbiory treningowy i testowy\n",
        "\n",
        "X_train, X_test, y_train, y_test = train_test_split(X, y, test_size=0.2, random_state=42)\n",
        "\n",
        "#Tworzenie modelu XGBoost\n",
        "\n",
        "xgb_model = xgb.XGBClassifier(random_state=42)\n",
        "\n",
        "#Trenowanie modelu na danych treningowych\n",
        "\n",
        "xgb_model.fit(X_train, y_train)\n",
        "\n",
        "#Przewidywanie na danych testowych\n",
        "\n",
        "y_pred = xgb_model.predict(X_test)\n",
        "\n",
        "#Obliczenie dokładności modelu\n",
        "\n",
        "accuracy = accuracy_score(y_test, y_pred)\n",
        "print(f\"Dokładność modelu XGBoost: {accuracy:.2f}\")\n",
        "\n",
        "#Macierz pomyłek\n",
        "\n",
        "conf_matrix_xgb = confusion_matrix(y_test, y_pred)\n",
        "print(\"Macierz pomyłek:\")\n",
        "print(conf_matrix_xgb)\n",
        "\n",
        "#Raport klasyfikacji\n",
        "\n",
        "class_report_xgb = classification_report(y_test, y_pred)\n",
        "print(\"Raport klasyfikacji:\")\n",
        "print(class_report_xgb)"
      ],
      "metadata": {
        "id": "GaqXmZw8yfX9",
        "colab": {
          "base_uri": "https://localhost:8080/"
        },
        "outputId": "4acba4a5-581b-4f9e-be1c-2c5f992dda21"
      },
      "execution_count": null,
      "outputs": [
        {
          "output_type": "stream",
          "name": "stdout",
          "text": [
            "Dokładność modelu XGBoost: 0.89\n",
            "Macierz pomyłek:\n",
            "[[69  8]\n",
            " [13 94]]\n",
            "Raport klasyfikacji:\n",
            "              precision    recall  f1-score   support\n",
            "\n",
            "           0       0.84      0.90      0.87        77\n",
            "           1       0.92      0.88      0.90       107\n",
            "\n",
            "    accuracy                           0.89       184\n",
            "   macro avg       0.88      0.89      0.88       184\n",
            "weighted avg       0.89      0.89      0.89       184\n",
            "\n"
          ]
        }
      ]
    },
    {
      "cell_type": "markdown",
      "source": [
        "#Sieci neuronowe"
      ],
      "metadata": {
        "id": "qlHsx7RbvqXs"
      }
    },
    {
      "cell_type": "code",
      "source": [
        "from sklearn.preprocessing import StandardScaler\n",
        "from sklearn.neural_network import MLPClassifier\n",
        "\n",
        "# Podział danych na zbiory treningowy i testowy\n",
        "X_train, X_test, y_train, y_test = train_test_split(X, y, test_size=0.2, random_state=42)\n",
        "\n",
        "# Przeskalowanie cech, ponieważ sieci neuronowe są wrażliwe na skalowanie danych\n",
        "scaler = StandardScaler()\n",
        "X_train = scaler.fit_transform(X_train)\n",
        "X_test = scaler.transform(X_test)\n",
        "\n",
        "# Tworzenie modelu sieci neuronowej\n",
        "mlp_model = MLPClassifier(hidden_layer_sizes=(10,), activation='relu', solver='adam', random_state=42)\n",
        "\n",
        "# Trenowanie modelu na danych treningowych\n",
        "mlp_model.fit(X_train, y_train)\n",
        "\n",
        "# Przewidywanie na danych testowych\n",
        "y_pred = mlp_model.predict(X_test)\n",
        "\n",
        "# Obliczenie dokładności modelu\n",
        "accuracy = accuracy_score(y_test, y_pred)\n",
        "print(f\"Dokładność modelu sieci neuronowej: {accuracy:.2f}\")\n",
        "\n",
        "# Macierz pomyłek\n",
        "conf_matrix_nn = confusion_matrix(y_test, y_pred)\n",
        "print(\"Macierz pomyłek:\")\n",
        "print(conf_matrix_nn)\n",
        "\n",
        "# Raport klasyfikacji\n",
        "class_report_nn = classification_report(y_test, y_pred)\n",
        "print(\"Raport klasyfikacji:\")\n",
        "print(class_report_nn)"
      ],
      "metadata": {
        "colab": {
          "base_uri": "https://localhost:8080/"
        },
        "id": "uuzcRdjmv0ET",
        "outputId": "4e36f806-b78c-4e4d-ffe6-6be57a42c496"
      },
      "execution_count": null,
      "outputs": [
        {
          "output_type": "stream",
          "name": "stdout",
          "text": [
            "Dokładność modelu sieci neuronowej: 0.85\n",
            "Macierz pomyłek:\n",
            "[[66 11]\n",
            " [16 91]]\n",
            "Raport klasyfikacji:\n",
            "              precision    recall  f1-score   support\n",
            "\n",
            "           0       0.80      0.86      0.83        77\n",
            "           1       0.89      0.85      0.87       107\n",
            "\n",
            "    accuracy                           0.85       184\n",
            "   macro avg       0.85      0.85      0.85       184\n",
            "weighted avg       0.86      0.85      0.85       184\n",
            "\n"
          ]
        },
        {
          "output_type": "stream",
          "name": "stderr",
          "text": [
            "/usr/local/lib/python3.10/dist-packages/sklearn/neural_network/_multilayer_perceptron.py:686: ConvergenceWarning: Stochastic Optimizer: Maximum iterations (200) reached and the optimization hasn't converged yet.\n",
            "  warnings.warn(\n"
          ]
        }
      ]
    },
    {
      "cell_type": "markdown",
      "source": [
        "#Keras"
      ],
      "metadata": {
        "id": "6yEMkehGSvM0"
      }
    },
    {
      "cell_type": "code",
      "source": [
        "from keras.models import Sequential\n",
        "from keras.layers import Dense\n",
        "from keras.callbacks import Callback\n",
        "from tqdm.keras import TqdmCallback\n",
        "\n",
        "# Podział danych na zbiory treningowy i testowy\n",
        "X_train, X_test, y_train, y_test = train_test_split(X, y, test_size=0.2, random_state=42)\n",
        "\n",
        "# Przeskalowanie cech\n",
        "scaler = StandardScaler()\n",
        "X_train = scaler.fit_transform(X_train)\n",
        "X_test = scaler.transform(X_test)\n",
        "\n",
        "# Budowa modelu\n",
        "model = Sequential()\n",
        "model.add(Dense(32, activation='relu', input_shape=(X_train.shape[1],)))\n",
        "model.add(Dense(16, activation='relu'))\n",
        "model.add(Dense(1, activation='sigmoid'))\n",
        "\n",
        "# Kompilacja modelu\n",
        "model.compile(optimizer='adam', loss='binary_crossentropy', metrics=['accuracy'])\n",
        "\n",
        "# Trenowanie modelu\n",
        "history = model.fit(\n",
        "    X_train, y_train,\n",
        "    validation_split=0.2,\n",
        "    epochs=100,\n",
        "    batch_size=32,\n",
        "    verbose=0,\n",
        "    callbacks=[TqdmCallback(verbose=1)]\n",
        ")\n",
        "\n",
        "# Przewidywanie na danych testowych\n",
        "y_pred_raw = model.predict(X_test)\n",
        "y_pred = np.round(y_pred_raw).flatten()\n",
        "\n",
        "# Obliczenie dokładności modelu\n",
        "accuracy = accuracy_score(y_test, y_pred)\n",
        "print(f\"Dokładność zoptymalizowanej sieci neuronowej: {accuracy:.2f}\")\n",
        "\n",
        "# Macierz pomyłek\n",
        "conf_matrix_keras = confusion_matrix(y_test, y_pred)\n",
        "print(\"Macierz pomyłek:\")\n",
        "print(conf_matrix_keras)\n",
        "\n",
        "# Raport klasyfikacji\n",
        "class_report_keras = classification_report(y_test, y_pred)\n",
        "print(\"Raport klasyfikacji:\")\n",
        "print(class_report_keras)"
      ],
      "metadata": {
        "colab": {
          "base_uri": "https://localhost:8080/",
          "height": 304,
          "referenced_widgets": [
            "3e9b8c6d8e69430b8c95d5b6cc8c4ac7",
            "19380f2eb3634562a8f424ca8c6750a4",
            "ed5eea6983494498abe3f24b8dad8ea9",
            "b054187590844bcdb648bb09ec79600a",
            "d971a33384e24f6c86367c761c2a7d6e",
            "b7577b0baf694e9ca6b70f7f074ae7f1",
            "f39969a5a0444a3bb25495cecff7d0d1",
            "ead184f41d24435ab9180a90c127744c",
            "aef7ecf0bd724d74974b9cdc5e44f94c",
            "0acf894e725342b48199fcf4de494ceb",
            "84a648f9c9264d8abaa38f2bc7e10ae9",
            "84fec5185d4344a9ae3d6fb77e56293a",
            "b2ecb625bfe749ba833810a1053de2d0",
            "9094689ec5714974a78e9487c19674a6",
            "07c385d0c6dc461db939018ff86c805d",
            "fd85f7e816b04d4bac5d57c4e06adbb1",
            "dbc0f10f49f4443ba3004c700208c747",
            "c804b1b8040c4cd08281eea8742c34e5",
            "fcbcb68a0bb04d819bd35fd73f87cf9c",
            "e87a4b349210485a98b504984991cbf4",
            "387b0846d1604f01bd24b550e9da0880",
            "9a246bdd010d4d65b209fcf4b2a700ae"
          ]
        },
        "id": "RVJrsDkpPo2s",
        "outputId": "b2a94fd7-3a58-4f35-c39f-efa427a41b0d"
      },
      "execution_count": null,
      "outputs": [
        {
          "output_type": "display_data",
          "data": {
            "text/plain": [
              "0epoch [00:00, ?epoch/s]"
            ],
            "application/vnd.jupyter.widget-view+json": {
              "version_major": 2,
              "version_minor": 0,
              "model_id": "3e9b8c6d8e69430b8c95d5b6cc8c4ac7"
            }
          },
          "metadata": {}
        },
        {
          "output_type": "display_data",
          "data": {
            "text/plain": [
              "0batch [00:00, ?batch/s]"
            ],
            "application/vnd.jupyter.widget-view+json": {
              "version_major": 2,
              "version_minor": 0,
              "model_id": "84fec5185d4344a9ae3d6fb77e56293a"
            }
          },
          "metadata": {}
        },
        {
          "output_type": "stream",
          "name": "stdout",
          "text": [
            "6/6 [==============================] - 0s 2ms/step\n",
            "Dokładność zoptymalizowanej sieci neuronowej: 0.84\n",
            "Macierz pomyłek:\n",
            "[[67 10]\n",
            " [19 88]]\n",
            "Raport klasyfikacji:\n",
            "              precision    recall  f1-score   support\n",
            "\n",
            "           0       0.78      0.87      0.82        77\n",
            "           1       0.90      0.82      0.86       107\n",
            "\n",
            "    accuracy                           0.84       184\n",
            "   macro avg       0.84      0.85      0.84       184\n",
            "weighted avg       0.85      0.84      0.84       184\n",
            "\n"
          ]
        }
      ]
    },
    {
      "cell_type": "markdown",
      "source": [
        "#Keras z Dropout"
      ],
      "metadata": {
        "id": "J_ge2zEmSxUl"
      }
    },
    {
      "cell_type": "code",
      "source": [
        "from keras.layers import Dropout, BatchNormalization\n",
        "from keras.regularizers import l2\n",
        "\n",
        "# Podział danych na zbiory treningowy i testowy\n",
        "X_train, X_test, y_train, y_test = train_test_split(X, y, test_size=0.2, random_state=42)\n",
        "\n",
        "# Przeskalowanie cech\n",
        "scaler = StandardScaler()\n",
        "X_train = scaler.fit_transform(X_train)\n",
        "X_test = scaler.transform(X_test)\n",
        "\n",
        "# Budowa modelu\n",
        "model_keras_improved = Sequential()\n",
        "model_keras_improved.add(Dense(64, activation='relu', input_shape=(X_train.shape[1],), kernel_regularizer=l2(0.01)))\n",
        "model_keras_improved.add(BatchNormalization())\n",
        "model_keras_improved.add(Dropout(0.5))  # Dodanie warstwy Dropout\n",
        "model_keras_improved.add(Dense(32, activation='relu', kernel_regularizer=l2(0.01)))\n",
        "model_keras_improved.add(BatchNormalization())\n",
        "model_keras_improved.add(Dropout(0.5))  # Dodanie warstwy Dropout\n",
        "model_keras_improved.add(Dense(16, activation='relu', kernel_regularizer=l2(0.01)))\n",
        "model_keras_improved.add(BatchNormalization())\n",
        "model_keras_improved.add(Dropout(0.5))  # Dodanie warstwy Dropout\n",
        "model_keras_improved.add(Dense(1, activation='sigmoid'))\n",
        "\n",
        "# Kompilacja modelu\n",
        "model_keras_improved.compile(optimizer='adam', loss='binary_crossentropy', metrics=['accuracy'])\n",
        "\n",
        "# Trenowanie modelu\n",
        "history = model_keras_improved.fit(\n",
        "    X_train, y_train,\n",
        "    validation_split=0.2,\n",
        "    epochs=200,  # Zwiększenie liczby epok\n",
        "    batch_size=32,\n",
        "    verbose=0,\n",
        "    callbacks=[TqdmCallback(verbose=1)]\n",
        ")\n",
        "\n",
        "# Przewidywanie na danych testowych\n",
        "y_pred_raw = model_keras_improved.predict(X_test)\n",
        "y_pred = np.round(y_pred_raw).flatten()\n",
        "\n",
        "# Obliczenie dokładności modelu\n",
        "accuracy = accuracy_score(y_test, y_pred)\n",
        "print(f\"Dokładność zoptymalizowanej sieci neuronowej: {accuracy:.2f}\")\n",
        "\n",
        "# Macierz pomyłek\n",
        "conf_matrix_keras_improved = confusion_matrix(y_test, y_pred)\n",
        "print(\"Macierz pomyłek:\")\n",
        "print(conf_matrix_keras_improved)\n",
        "\n",
        "# Raport klasyfikacji\n",
        "class_report_keras_improved = classification_report(y_test, y_pred)\n",
        "print(\"Raport klasyfikacji:\")\n",
        "print(class_report_keras_improved)\n",
        "\n",
        "model_keras_improved.save('keras_model.h5')"
      ],
      "metadata": {
        "colab": {
          "base_uri": "https://localhost:8080/",
          "height": 304,
          "referenced_widgets": [
            "8e299b654f33472e8ecd21e3d3fab036",
            "f0c9d31bdb934ccbac9fdbb3ee49168c",
            "46769d6a3fc54f1190e000e78d3cc7db",
            "56f95306f64f4bca97ef3e6ef23f75cb",
            "f4f9c56b784b49d89279496a33230f8e",
            "47a5b200a4bc44329101273c675f7fd6",
            "5ffc07f906c14faab74fa0b5f6a6e104",
            "56831d817b874c06a9a8fa70e3340ef9",
            "315de75758c340c3b3a8a6495dcae0fc",
            "a6c7912178df4b08a124029e8d186c7a",
            "0a6811011b2946a89e58bd1b357d6bd4",
            "bbaafc6328aa48d2be667add9ea6cbe8",
            "0d066b2b1f4c41d3b33df110aa72a75d",
            "2947c21e0dbe4feb85f3592d213a5e38",
            "37494324f16f448ba6023bd71252bd72",
            "25a62eef302a41839c7b76b6e7b9954d",
            "53df928e489a47f5a3fa5519118e52b6",
            "48d9bae6b0c2456f80ff6ff6faba0e53",
            "4756ff0639cf494da094b3e7aa269546",
            "0d8a7dd6600f42a5a59dce4874f5401e",
            "05ce3b920afe4450b87578ef622ced9b",
            "0ff43b0308bb494f9288995e40bd2f6b"
          ]
        },
        "id": "dhbWPJ3cStFg",
        "outputId": "da479327-5f8a-4e4e-9b31-11efe183c403"
      },
      "execution_count": null,
      "outputs": [
        {
          "output_type": "display_data",
          "data": {
            "text/plain": [
              "0epoch [00:00, ?epoch/s]"
            ],
            "application/vnd.jupyter.widget-view+json": {
              "version_major": 2,
              "version_minor": 0,
              "model_id": "8e299b654f33472e8ecd21e3d3fab036"
            }
          },
          "metadata": {}
        },
        {
          "output_type": "display_data",
          "data": {
            "text/plain": [
              "0batch [00:00, ?batch/s]"
            ],
            "application/vnd.jupyter.widget-view+json": {
              "version_major": 2,
              "version_minor": 0,
              "model_id": "bbaafc6328aa48d2be667add9ea6cbe8"
            }
          },
          "metadata": {}
        },
        {
          "output_type": "stream",
          "name": "stdout",
          "text": [
            "6/6 [==============================] - 0s 2ms/step\n",
            "Dokładność zoptymalizowanej sieci neuronowej: 0.84\n",
            "Macierz pomyłek:\n",
            "[[68  9]\n",
            " [20 87]]\n",
            "Raport klasyfikacji:\n",
            "              precision    recall  f1-score   support\n",
            "\n",
            "           0       0.77      0.88      0.82        77\n",
            "           1       0.91      0.81      0.86       107\n",
            "\n",
            "    accuracy                           0.84       184\n",
            "   macro avg       0.84      0.85      0.84       184\n",
            "weighted avg       0.85      0.84      0.84       184\n",
            "\n"
          ]
        }
      ]
    },
    {
      "cell_type": "code",
      "source": [
        "!pip install keras-tuner"
      ],
      "metadata": {
        "colab": {
          "base_uri": "https://localhost:8080/"
        },
        "id": "5fUpVoxBbEor",
        "outputId": "5a837213-48de-4aa1-c95f-9d282ee4db3e"
      },
      "execution_count": null,
      "outputs": [
        {
          "output_type": "stream",
          "name": "stdout",
          "text": [
            "Looking in indexes: https://pypi.org/simple, https://us-python.pkg.dev/colab-wheels/public/simple/\n",
            "Collecting keras-tuner\n",
            "  Downloading keras_tuner-1.3.5-py3-none-any.whl (176 kB)\n",
            "\u001b[2K     \u001b[90m━━━━━━━━━━━━━━━━━━━━━━━━━━━━━━━━━━━━━━━\u001b[0m \u001b[32m176.1/176.1 kB\u001b[0m \u001b[31m9.1 MB/s\u001b[0m eta \u001b[36m0:00:00\u001b[0m\n",
            "\u001b[?25hRequirement already satisfied: packaging in /usr/local/lib/python3.10/dist-packages (from keras-tuner) (23.1)\n",
            "Requirement already satisfied: requests in /usr/local/lib/python3.10/dist-packages (from keras-tuner) (2.27.1)\n",
            "Collecting kt-legacy (from keras-tuner)\n",
            "  Downloading kt_legacy-1.0.5-py3-none-any.whl (9.6 kB)\n",
            "Requirement already satisfied: urllib3<1.27,>=1.21.1 in /usr/local/lib/python3.10/dist-packages (from requests->keras-tuner) (1.26.15)\n",
            "Requirement already satisfied: certifi>=2017.4.17 in /usr/local/lib/python3.10/dist-packages (from requests->keras-tuner) (2022.12.7)\n",
            "Requirement already satisfied: charset-normalizer~=2.0.0 in /usr/local/lib/python3.10/dist-packages (from requests->keras-tuner) (2.0.12)\n",
            "Requirement already satisfied: idna<4,>=2.5 in /usr/local/lib/python3.10/dist-packages (from requests->keras-tuner) (3.4)\n",
            "Installing collected packages: kt-legacy, keras-tuner\n",
            "Successfully installed keras-tuner-1.3.5 kt-legacy-1.0.5\n"
          ]
        }
      ]
    },
    {
      "cell_type": "markdown",
      "source": [
        "# Dobór odpowiednich hiperparametrów"
      ],
      "metadata": {
        "id": "1dhvZv303eWy"
      }
    },
    {
      "cell_type": "code",
      "source": [
        "import numpy as np\n",
        "from tensorflow import keras\n",
        "from tensorflow.keras import layers\n",
        "from keras_tuner.tuners import RandomSearch\n",
        "from sklearn.model_selection import train_test_split\n",
        "from sklearn.preprocessing import StandardScaler\n",
        "\n",
        "# Podział danych na zbiory treningowy i testowy\n",
        "X_train, X_test, y_train, y_test = train_test_split(X, y, test_size=0.2, random_state=42)\n",
        "\n",
        "# Przeskalowanie cech\n",
        "scaler = StandardScaler()\n",
        "X_train = scaler.fit_transform(X_train)\n",
        "X_test = scaler.transform(X_test)\n",
        "\n",
        "# Definicja modelu z hiperparametrami\n",
        "def build_model(hp):\n",
        "    model = keras.Sequential()\n",
        "    model.add(layers.Dense(units=hp.Int('units_input', min_value=32, max_value=128, step=16),\n",
        "                            activation='relu',\n",
        "                            input_shape=(X_train.shape[1],)))\n",
        "    model.add(layers.Dropout(hp.Float('dropout', min_value=0.1, max_value=0.5, step=0.1)))\n",
        "    model.add(layers.Dense(units=hp.Int('units_hidden', min_value=16, max_value=64, step=16),\n",
        "                            activation='relu'))\n",
        "    model.add(layers.Dropout(hp.Float('dropout', min_value=0.1, max_value=0.5, step=0.1)))\n",
        "    model.add(layers.Dense(1, activation='sigmoid'))\n",
        "\n",
        "    model.compile(optimizer=keras.optimizers.Adam(hp.Choice('learning_rate', values=[0.01, 0.001, 0.0001])),\n",
        "              loss='binary_crossentropy',\n",
        "              metrics=['accuracy'])\n",
        "    return model\n",
        "\n",
        "# Inicjalizacja tunera\n",
        "tuner = RandomSearch(\n",
        "    build_model,\n",
        "    objective='val_accuracy',\n",
        "    max_trials=10,\n",
        "    executions_per_trial=2,\n",
        "    directory='my_dir',\n",
        "    project_name='hptune'\n",
        ")\n",
        "\n",
        "# Przeszukiwanie przestrzeni hiperparametrów\n",
        "tuner.search(X_train, y_train, epochs=50, validation_split=0.2, verbose=0)\n",
        "\n",
        "# Wybranie najlepszego zestawu hiperparametrów\n",
        "best_hyperparameters = tuner.get_best_hyperparameters(num_trials=1)[0]\n",
        "\n",
        "# Trenowanie modelu z optymalnymi hiperparametrami\n",
        "best_model = tuner.hypermodel.build(best_hyperparameters)\n",
        "history = best_model.fit(X_train, y_train, epochs=50, validation_split=0.2, verbose=0)\n",
        "\n",
        "# Ewaluacja modelu na zbiorze testowym\n",
        "_, test_acc = best_model.evaluate(X_test, y_test)\n",
        "print(f\"Test accuracy: {test_acc:.2f}\")\n",
        "\n",
        "# Generowanie predykcji dla zbioru testowego\n",
        "y_pred = (best_model.predict(X_test) > 0.5).astype(\"int32\")\n",
        "\n",
        "# Macierz pomyłek\n",
        "conf_matrix_keras_improved = confusion_matrix(y_test, y_pred)\n",
        "print(\"Macierz pomyłek:\")\n",
        "print(conf_matrix_keras_improved)\n",
        "\n",
        "# Raport klasyfikacji\n",
        "class_report_keras_improved = classification_report(y_test, y_pred)\n",
        "print(\"Raport klasyfikacji:\")\n",
        "print(class_report_keras_improved)"
      ],
      "metadata": {
        "colab": {
          "base_uri": "https://localhost:8080/"
        },
        "id": "P2KqrVHpZhQf",
        "outputId": "75436798-e95d-4452-9599-b7525b94da77"
      },
      "execution_count": null,
      "outputs": [
        {
          "output_type": "stream",
          "name": "stdout",
          "text": [
            "6/6 [==============================] - 0s 3ms/step - loss: 0.5147 - accuracy: 0.8750\n",
            "Test accuracy: 0.88\n",
            "6/6 [==============================] - 0s 2ms/step\n",
            "Macierz pomyłek:\n",
            "[[69  8]\n",
            " [15 92]]\n",
            "Raport klasyfikacji:\n",
            "              precision    recall  f1-score   support\n",
            "\n",
            "           0       0.82      0.90      0.86        77\n",
            "           1       0.92      0.86      0.89       107\n",
            "\n",
            "    accuracy                           0.88       184\n",
            "   macro avg       0.87      0.88      0.87       184\n",
            "weighted avg       0.88      0.88      0.88       184\n",
            "\n"
          ]
        }
      ]
    },
    {
      "cell_type": "markdown",
      "source": [
        "# Porównanie modeli"
      ],
      "metadata": {
        "id": "BbNfHz60YpA6"
      }
    },
    {
      "cell_type": "code",
      "source": [
        "from xgboost.sklearn import XGBClassifier\n",
        "import numpy as np\n",
        "import matplotlib.pyplot as plt\n",
        "from sklearn.metrics import accuracy_score, precision_score, recall_score, f1_score, roc_curve, auc\n",
        "from tensorflow.keras.models import load_model\n",
        "\n",
        "# Wczytanie zbudowanych modeli\n",
        "logistic_regression = LogisticRegression()\n",
        "decision_tree = DecisionTreeClassifier()\n",
        "naive_bayes = GaussianNB()\n",
        "svm = SVC(probability=True)\n",
        "xgboost = XGBClassifier()\n",
        "keras_model = load_model(\"keras_model.h5\")\n",
        "\n",
        "# Lista modeli\n",
        "models = [\n",
        "    (\"Logistic Regression\", logistic_regression),\n",
        "    (\"Decision Tree\", decision_tree),\n",
        "    (\"Naive Bayes\", naive_bayes),\n",
        "    (\"SVM\", svm),\n",
        "    (\"XGBoost\", xgboost),\n",
        "    (\"Optimized Neural Network\", keras_model),\n",
        "]\n",
        "\n",
        "# Trenowanie i ewaluacja modeli\n",
        "fig, ax = plt.subplots()\n",
        "\n",
        "for name, model in models:\n",
        "    model.fit(X_train, y_train)\n",
        "\n",
        "    if name == \"Optimized Neural Network\":\n",
        "        y_pred = (model.predict(X_test) > 0.5).astype(\"int32\")\n",
        "        y_pred_proba = model.predict(X_test).flatten()\n",
        "    else:\n",
        "        y_pred = model.predict(X_test)\n",
        "        if hasattr(model, 'predict_proba'):\n",
        "            y_pred_proba = model.predict_proba(X_test)[:, 1]\n",
        "        else:\n",
        "            y_pred_proba = model.decision_function(X_test)\n",
        "\n",
        "    accuracy = accuracy_score(y_test, y_pred)\n",
        "    precision = precision_score(y_test, y_pred)\n",
        "    recall = recall_score(y_test, y_pred)\n",
        "    f1 = f1_score(y_test, y_pred)\n",
        "\n",
        "    fpr, tpr, _ = roc_curve(y_test, y_pred_proba)\n",
        "    roc_auc = auc(fpr, tpr)\n",
        "\n",
        "    # Obliczenie i wydrukowanie macierzy błędów\n",
        "    tn, fp, fn, tp = confusion_matrix(y_test, y_pred).ravel()\n",
        "    print(f\"Model: {name}\")\n",
        "    print(f\"Accuracy: {accuracy:.2f}\")\n",
        "    print(f\"Precision: {precision:.2f}\")\n",
        "    print(f\"Recall: {recall:.2f}\")\n",
        "    print(f\"F1 Score: {f1:.2f}\")\n",
        "    print(f\"ROC AUC: {roc_auc:.2f}\")\n",
        "    print(f\"TP: {tp}, TN: {tn}, FP: {fp}, FN: {fn}\")\n",
        "    print(\"-\" * 30)\n",
        "\n",
        "    ax.plot(fpr, tpr, label=f\"{name} (AUC = {roc_auc:.2f})\")\n",
        "\n",
        "ax.plot([0, 1], [0, 1], 'k--', label='Random')\n",
        "ax.set_xlabel('False Positive Rate')\n",
        "ax.set_ylabel('True Positive Rate')\n",
        "ax.legend(loc='lower right')\n",
        "ax.set_title('ROC Curves for Models')\n",
        "plt.show()"
      ],
      "metadata": {
        "colab": {
          "base_uri": "https://localhost:8080/",
          "height": 1000
        },
        "id": "xAD6Kok8Yn3n",
        "outputId": "761e3870-0b32-4466-f132-391dbdb0f778"
      },
      "execution_count": null,
      "outputs": [
        {
          "output_type": "stream",
          "name": "stdout",
          "text": [
            "Model: Logistic Regression\n",
            "Accuracy: 0.85\n",
            "Precision: 0.90\n",
            "Recall: 0.84\n",
            "F1 Score: 0.87\n",
            "ROC AUC: 0.93\n",
            "TP: 90, TN: 67, FP: 10, FN: 17\n",
            "------------------------------\n",
            "Model: Decision Tree\n",
            "Accuracy: 0.80\n",
            "Precision: 0.86\n",
            "Recall: 0.78\n",
            "F1 Score: 0.82\n",
            "ROC AUC: 0.80\n",
            "TP: 83, TN: 64, FP: 13, FN: 24\n",
            "------------------------------\n",
            "Model: Naive Bayes\n",
            "Accuracy: 0.84\n",
            "Precision: 0.88\n",
            "Recall: 0.84\n",
            "F1 Score: 0.86\n",
            "ROC AUC: 0.92\n",
            "TP: 90, TN: 65, FP: 12, FN: 17\n",
            "------------------------------\n",
            "Model: SVM\n",
            "Accuracy: 0.88\n",
            "Precision: 0.90\n",
            "Recall: 0.88\n",
            "F1 Score: 0.89\n",
            "ROC AUC: 0.94\n",
            "TP: 94, TN: 67, FP: 10, FN: 13\n",
            "------------------------------\n",
            "Model: XGBoost\n",
            "Accuracy: 0.89\n",
            "Precision: 0.92\n",
            "Recall: 0.88\n",
            "F1 Score: 0.90\n",
            "ROC AUC: 0.93\n",
            "TP: 94, TN: 69, FP: 8, FN: 13\n",
            "------------------------------\n",
            "23/23 [==============================] - 1s 3ms/step - loss: 0.3893 - accuracy: 0.8719\n",
            "6/6 [==============================] - 0s 2ms/step\n",
            "6/6 [==============================] - 0s 2ms/step\n",
            "Model: Optimized Neural Network\n",
            "Accuracy: 0.88\n",
            "Precision: 0.91\n",
            "Recall: 0.88\n",
            "F1 Score: 0.90\n",
            "ROC AUC: 0.93\n",
            "TP: 94, TN: 68, FP: 9, FN: 13\n",
            "------------------------------\n"
          ]
        },
        {
          "output_type": "display_data",
          "data": {
            "text/plain": [
              "<Figure size 640x480 with 1 Axes>"
            ],
            "image/png": "[encoded data removed]"
          },
          "metadata": {}
        }
      ]
    }
  ]
}